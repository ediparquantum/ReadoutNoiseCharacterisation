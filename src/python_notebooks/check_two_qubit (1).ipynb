{
 "cells": [
  {
   "cell_type": "code",
   "execution_count": 9,
   "id": "c5ce221e-c95e-4261-a852-a1892c0a06cb",
   "metadata": {},
   "outputs": [],
   "source": [
    "import pickle\n",
    "import matplotlib.pyplot as plt\n",
    "import numpy as np"
   ]
  },
  {
   "cell_type": "code",
   "execution_count": 10,
   "id": "7e5e5e93",
   "metadata": {},
   "outputs": [],
   "source": [
    "from qiskit import QuantumCircuit, QuantumRegister, ClassicalRegister\n",
    "from qiskit import execute, Aer\n",
    "from qiskit.tools import job_monitor\n",
    "from qiskit.visualization import array_to_latex"
   ]
  },
  {
   "cell_type": "code",
   "execution_count": 11,
   "id": "2fda0f50",
   "metadata": {},
   "outputs": [],
   "source": [
    "from qiskit_rigetti import RigettiQCSBackend, RigettiQCSJob, RigettiQCSProvider\n",
    "from qiskit_rigetti import QuilCircuit"
   ]
  },
  {
   "cell_type": "code",
   "execution_count": 12,
   "id": "431f8827",
   "metadata": {},
   "outputs": [
    {
     "data": {
      "text/plain": [
       "[<RigettiQCSBackend('Aspen-11')>,\n",
       " <RigettiQCSBackend('Aspen-12')>,\n",
       " <RigettiQCSBackend('Aspen-M-2')>]"
      ]
     },
     "execution_count": 12,
     "metadata": {},
     "output_type": "execute_result"
    }
   ],
   "source": [
    "# Get provider and backend\n",
    "provider = RigettiQCSProvider()\n",
    "provider.backends()"
   ]
  },
  {
   "cell_type": "code",
   "execution_count": 14,
   "id": "112a1770-4511-4380-8c35-47bdc06738cf",
   "metadata": {},
   "outputs": [
    {
     "data": {
      "text/plain": [
       "<RigettiQCSBackend('Aspen-11')>"
      ]
     },
     "execution_count": 14,
     "metadata": {},
     "output_type": "execute_result"
    }
   ],
   "source": [
    "backend = provider.get_backend(\"Aspen-11\")\n",
    "backend"
   ]
  },
  {
   "cell_type": "code",
   "execution_count": 15,
   "id": "52dd38e2",
   "metadata": {},
   "outputs": [],
   "source": [
    "from qiskit.ignis.mitigation.measurement import complete_meas_cal, CompleteMeasFitter"
   ]
  },
  {
   "cell_type": "code",
   "execution_count": 16,
   "id": "fa2f7166",
   "metadata": {},
   "outputs": [
    {
     "data": {
      "text/plain": [
       "4"
      ]
     },
     "execution_count": 16,
     "metadata": {},
     "output_type": "execute_result"
    }
   ],
   "source": [
    "num_qubits = 2\n",
    "qr = QuantumRegister(num_qubits)\n",
    "meas_calibs, state_labels = complete_meas_cal(qr=qr)\n",
    "len(meas_calibs)"
   ]
  },
  {
   "cell_type": "code",
   "execution_count": 8,
   "id": "136fce26-4796-4f9d-9e18-8ad38cdbb0e8",
   "metadata": {},
   "outputs": [
    {
     "data": {
      "text/html": [
       "<pre style=\"word-wrap: normal;white-space: pre;background: #fff0;line-height: 1.1;font-family: &quot;Courier New&quot;,Courier,monospace\">       ░ ┌─┐   \n",
       "q0_0: ─░─┤M├───\n",
       "       ░ └╥┘┌─┐\n",
       "q0_1: ─░──╫─┤M├\n",
       "       ░  ║ └╥┘\n",
       "c0: 2/════╩══╩═\n",
       "          0  1 </pre>"
      ],
      "text/plain": [
       "       ░ ┌─┐   \n",
       "q0_0: ─░─┤M├───\n",
       "       ░ └╥┘┌─┐\n",
       "q0_1: ─░──╫─┤M├\n",
       "       ░  ║ └╥┘\n",
       "c0: 2/════╩══╩═\n",
       "          0  1 "
      ]
     },
     "execution_count": 8,
     "metadata": {},
     "output_type": "execute_result"
    }
   ],
   "source": [
    "meas_calibs[0].draw()"
   ]
  },
  {
   "cell_type": "code",
   "execution_count": 9,
   "id": "49b841b5-3e70-4db8-b2d7-02bea0973f9c",
   "metadata": {},
   "outputs": [
    {
     "name": "stdout",
     "output_type": "stream",
     "text": [
      "started 6 and 7\n"
     ]
    },
    {
     "name": "stderr",
     "output_type": "stream",
     "text": [
      "/opt/conda/lib/python3.9/site-packages/qiskit_rigetti/_qcs_job.py:117: UserWarning: barriers are currently omitted during execution on a RigettiQCSBackend\n",
      "  warnings.warn(\"barriers are currently omitted during execution on a RigettiQCSBackend\")\n"
     ]
    },
    {
     "name": "stdout",
     "output_type": "stream",
     "text": [
      "job_id: f3783085-ff7c-4251-abe2-7e16c8124dbb\n",
      "finished 6 and 7\n",
      "\n",
      "started 6 and 0\n",
      "job_id: a7602895-bac7-4554-8e82-d64356f36172\n",
      "finished 6 and 0\n",
      "\n",
      "started 6 and 1\n",
      "job_id: e2c45706-3929-4d36-8644-5cab599f921d\n",
      "finished 6 and 1\n",
      "\n",
      "started 6 and 16\n",
      "job_id: ab97d808-dae9-4b0c-8745-3ae196afd809\n",
      "finished 6 and 16\n",
      "\n",
      "started 6 and 17\n",
      "job_id: 258f45fc-ffd9-41f1-a804-d7bc8bba4dea\n",
      "finished 6 and 17\n",
      "\n",
      "started 6 and 10\n",
      "job_id: 0b9b6ad7-db60-4dd1-ac53-97f854bd5be0\n",
      "finished 6 and 10\n",
      "\n",
      "started 6 and 11\n",
      "job_id: 9b86174c-9626-410c-9e41-890d842ddd6f\n",
      "finished 6 and 11\n",
      "\n",
      "started 6 and 26\n",
      "job_id: 06066a32-3664-4060-b082-8ee10b9f6a28\n",
      "finished 6 and 26\n",
      "\n",
      "started 6 and 27\n",
      "job_id: 56c68eb5-963c-4737-9caf-182992dfe134\n",
      "finished 6 and 27\n",
      "\n",
      "started 6 and 20\n",
      "job_id: b8048e30-f5f4-4aa6-8d7f-9d8515b0e6b9\n",
      "finished 6 and 20\n",
      "\n",
      "started 6 and 21\n",
      "job_id: 86421a1a-fe7b-47e1-937d-8619bb6a9f1f\n",
      "finished 6 and 21\n",
      "\n",
      "started 6 and 36\n",
      "job_id: f2ae2078-ddba-4af9-90d0-edfc9a830461\n",
      "finished 6 and 36\n",
      "\n",
      "started 6 and 37\n",
      "job_id: 6198e67e-cc23-4701-a7fa-22c848b134e8\n",
      "finished 6 and 37\n",
      "\n",
      "started 6 and 30\n",
      "job_id: f97ef7ef-f254-4367-b254-e874e98c4f48\n",
      "finished 6 and 30\n",
      "\n",
      "started 6 and 31\n",
      "job_id: 5def19b2-c214-4ac2-9ce0-3c8ade3cb685\n",
      "finished 6 and 31\n",
      "\n"
     ]
    }
   ],
   "source": [
    "# Execute the circuit on the backend\n",
    "jobs = []\n",
    "job_ids = []\n",
    "results = []\n",
    "path = [7,0,1,16,17,10,11,26,27,20,21,36,37,30,31]\n",
    "for i in path:\n",
    "    print(\"started\", 6, \"and\", i)\n",
    "    job = execute(meas_calibs, backend, shots=1 << 13, initial_layout=[6,i], optimization_level=3)\n",
    "    jobs.append(job)\n",
    "    print(\"job_id:\", job.job_id())\n",
    "    job_ids.append(job.job_id())\n",
    "    with open(\"job_ids_two_qubits.pkl\", \"wb\") as f:\n",
    "        pickle.dump(job_ids, f)\n",
    "    print(\"finished\", 6, \"and\", i)\n",
    "    print()"
   ]
  },
  {
   "cell_type": "code",
   "execution_count": 10,
   "id": "d8cb1201-92c9-4588-b382-b6ede2991f2b",
   "metadata": {},
   "outputs": [
    {
     "name": "stdout",
     "output_type": "stream",
     "text": [
      "Job Status: job has successfully run\n",
      "Job Status: job has successfully run\n",
      "Job Status: job has successfully run\n",
      "Job Status: job has successfully run\n",
      "Job Status: job has successfully run\n",
      "Job Status: job has successfully run\n",
      "Job Status: job has successfully run\n",
      "Job Status: job has successfully run\n",
      "Job Status: job has successfully run\n",
      "Job Status: job has successfully run\n",
      "Job Status: job has successfully run\n",
      "Job Status: job has successfully run\n",
      "Job Status: job has successfully run\n",
      "Job Status: job has successfully run\n",
      "Job Status: job has successfully run\n"
     ]
    }
   ],
   "source": [
    "for job in jobs:\n",
    "    job_monitor(job)"
   ]
  },
  {
   "cell_type": "code",
   "execution_count": 11,
   "id": "dc8046b0-c07a-4125-8b42-e1b6ce2a33a4",
   "metadata": {},
   "outputs": [],
   "source": [
    "# Execute the circuit on the backend\n",
    "results = []\n",
    "for job in jobs:\n",
    "    results.append(job.result())\n",
    "    with open(\"results_two_qubits.pkl\", \"wb\") as f:\n",
    "        pickle.dump(results ,f)"
   ]
  },
  {
   "cell_type": "code",
   "execution_count": 13,
   "id": "3acf60ca-cb56-4263-b0b5-7a064ce2e312",
   "metadata": {},
   "outputs": [],
   "source": [
    "meas_fitters = []\n",
    "for result in results:\n",
    "    meas_fitter = CompleteMeasFitter(result, state_labels)\n",
    "    meas_fitters.append(meas_fitter)\n",
    "with open(\"meas_fitters_two_qubits.pkl\", \"wb\") as f:\n",
    "    pickle.dump(meas_fitters ,f)"
   ]
  },
  {
   "cell_type": "code",
   "execution_count": 14,
   "id": "f65a50e0-dd8a-42aa-a7ed-b25e4028601c",
   "metadata": {},
   "outputs": [],
   "source": [
    "with open(\"readout_error_aspen-11_two_qubits.pkl\", \"wb\") as f:\n",
    "    pickle.dump({\"results\": results, \"meas_fitters\": meas_fitters, \"time\": \"2022-08-22-1430-BST\"}, f)"
   ]
  },
  {
   "cell_type": "code",
   "execution_count": 17,
   "id": "8323370d-89dc-4e85-aef4-d4531bd986c2",
   "metadata": {},
   "outputs": [],
   "source": [
    "cal_matrices = []\n",
    "for meas_fitter in meas_fitters:\n",
    "    cal_matrices.append(meas_fitter.cal_matrix)\n",
    "with open(\"cal_matrices_two_qubits.pkl\", \"wb\") as f:\n",
    "    pickle.dump(cal_matrices ,f)"
   ]
  },
  {
   "cell_type": "code",
   "execution_count": 21,
   "id": "5bb6a070-a6f9-42bc-804b-6ea9da8c9621",
   "metadata": {},
   "outputs": [
    {
     "data": {
      "text/latex": [
       "$$\n",
       "\n",
       "\\begin{bmatrix}\n",
       "0.8429 & 0.11218 & 0.02771 & 0.00293  \\\\\n",
       " 0.0271 & 0.81812 & 0.00146 & 0.02258  \\\\\n",
       " 0.12537 & 0.0116 & 0.93579 & 0.11377  \\\\\n",
       " 0.00464 & 0.05811 & 0.03503 & 0.86072  \\\\\n",
       " \\end{bmatrix}\n",
       "$$"
      ],
      "text/plain": [
       "<IPython.core.display.Latex object>"
      ]
     },
     "execution_count": 21,
     "metadata": {},
     "output_type": "execute_result"
    }
   ],
   "source": [
    "array_to_latex(cal_matrices[i])"
   ]
  },
  {
   "cell_type": "code",
   "execution_count": 27,
   "id": "95c1e09a-7ad5-40ec-9c83-cbe1310c91a1",
   "metadata": {},
   "outputs": [
    {
     "data": {
      "text/plain": [
       "array([<AxesSubplot:>, <AxesSubplot:>, <AxesSubplot:>, <AxesSubplot:>,\n",
       "       <AxesSubplot:>], dtype=object)"
      ]
     },
     "execution_count": 27,
     "metadata": {},
     "output_type": "execute_result"
    }
   ],
   "source": [
    "axs[0]"
   ]
  },
  {
   "cell_type": "code",
   "execution_count": 2,
   "id": "a1e1975a-04d9-43f2-a457-0870345fe9a3",
   "metadata": {},
   "outputs": [],
   "source": [
    "import pickle\n",
    "with open(\"readout_error_aspen-11_two_qubits.pkl\", \"rb\") as f:\n",
    "    data = pickle.load(f)"
   ]
  },
  {
   "cell_type": "code",
   "execution_count": 3,
   "id": "1221243e-96c3-4a29-a03d-2f05cba383e1",
   "metadata": {},
   "outputs": [
    {
     "data": {
      "text/plain": [
       "dict_keys(['results', 'meas_fitters', 'time'])"
      ]
     },
     "execution_count": 3,
     "metadata": {},
     "output_type": "execute_result"
    }
   ],
   "source": [
    "data.keys()"
   ]
  },
  {
   "cell_type": "code",
   "execution_count": 4,
   "id": "a8077098-0a55-45b4-989c-22cf5c9f1998",
   "metadata": {},
   "outputs": [],
   "source": [
    "meas_fitters = data[\"meas_fitters\"]"
   ]
  },
  {
   "cell_type": "code",
   "execution_count": 5,
   "id": "1e2f2dc7-10c8-4fbc-81f2-c49613d7a72b",
   "metadata": {},
   "outputs": [
    {
     "data": {
      "text/plain": [
       "array([[0.84289551, 0.11218262, 0.02770996, 0.00292969],\n",
       "       [0.02709961, 0.81811523, 0.00146484, 0.02258301],\n",
       "       [0.12536621, 0.01159668, 0.93579102, 0.11376953],\n",
       "       [0.00463867, 0.05810547, 0.03503418, 0.86071777]])"
      ]
     },
     "execution_count": 5,
     "metadata": {},
     "output_type": "execute_result"
    }
   ],
   "source": [
    "meas_fitters[0].cal_matrix"
   ]
  },
  {
   "cell_type": "code",
   "execution_count": 6,
   "id": "b5711a83-ae63-4dcf-86e7-817ef0170b8b",
   "metadata": {},
   "outputs": [
    {
     "name": "stdout",
     "output_type": "stream",
     "text": [
      "[[0.84289551 0.11218262 0.02770996 0.00292969]\n",
      " [0.02709961 0.81811523 0.00146484 0.02258301]\n",
      " [0.12536621 0.01159668 0.93579102 0.11376953]\n",
      " [0.00463867 0.05810547 0.03503418 0.86071777]]\n",
      "[[9.68017578e-01 1.34033203e-01 6.95800781e-02 1.03759766e-02]\n",
      " [1.67236328e-02 8.49731445e-01 1.22070312e-03 5.70068359e-02]\n",
      " [1.50146484e-02 2.31933594e-03 9.11010742e-01 1.28540039e-01]\n",
      " [2.44140625e-04 1.39160156e-02 1.81884766e-02 8.04077148e-01]]\n",
      "[[9.31884766e-01 1.25366211e-01 5.02929688e-02 8.05664062e-03]\n",
      " [1.56250000e-02 8.22387695e-01 4.88281250e-04 4.66308594e-02]\n",
      " [5.18798828e-02 7.32421875e-03 9.35668945e-01 1.33056641e-01]\n",
      " [6.10351562e-04 4.49218750e-02 1.35498047e-02 8.12255859e-01]]\n",
      "[[0.97167969 0.14306641 0.08642578 0.01049805]\n",
      " [0.01574707 0.84350586 0.00109863 0.06945801]\n",
      " [0.01257324 0.00134277 0.89758301 0.12255859]\n",
      " [0.         0.01208496 0.01489258 0.79748535]]\n",
      "[[8.86596680e-01 1.13403320e-01 9.38720703e-02 1.39160156e-02]\n",
      " [1.50146484e-02 7.82470703e-01 4.88281250e-04 7.94677734e-02]\n",
      " [9.64355469e-02 1.41601562e-02 8.90991211e-01 1.24633789e-01]\n",
      " [1.95312500e-03 8.99658203e-02 1.46484375e-02 7.81982422e-01]]\n",
      "[[9.61303711e-01 1.34033203e-01 2.07519531e-02 3.17382812e-03]\n",
      " [1.66015625e-02 8.43750000e-01 3.66210938e-04 1.57470703e-02]\n",
      " [2.13623047e-02 3.41796875e-03 9.64721680e-01 1.43432617e-01]\n",
      " [7.32421875e-04 1.87988281e-02 1.41601562e-02 8.37646484e-01]]\n",
      "[[9.58618164e-01 1.39892578e-01 5.11474609e-02 8.05664062e-03]\n",
      " [1.78222656e-02 8.32397461e-01 9.76562500e-04 4.19921875e-02]\n",
      " [2.31933594e-02 3.90625000e-03 9.32128906e-01 1.40869141e-01]\n",
      " [3.66210938e-04 2.38037109e-02 1.57470703e-02 8.09082031e-01]]\n",
      "[[9.62890625e-01 1.39648438e-01 9.27734375e-03 1.22070312e-03]\n",
      " [1.52587891e-02 8.35449219e-01 3.66210938e-04 8.42285156e-03]\n",
      " [2.14843750e-02 4.51660156e-03 9.77294922e-01 1.33544922e-01]\n",
      " [3.66210938e-04 2.03857422e-02 1.30615234e-02 8.56811523e-01]]\n",
      "[[9.55688477e-01 1.35620117e-01 5.01708984e-02 6.22558594e-03]\n",
      " [1.46484375e-02 8.32885742e-01 7.32421875e-04 4.49218750e-02]\n",
      " [2.90527344e-02 5.12695312e-03 9.32373047e-01 1.34887695e-01]\n",
      " [6.10351562e-04 2.63671875e-02 1.67236328e-02 8.13964844e-01]]\n",
      "[[9.48852539e-01 1.37695312e-01 1.97753906e-02 2.44140625e-03]\n",
      " [1.66015625e-02 8.28491211e-01 2.44140625e-04 1.87988281e-02]\n",
      " [3.43017578e-02 5.24902344e-03 9.66186523e-01 1.30737305e-01]\n",
      " [2.44140625e-04 2.85644531e-02 1.37939453e-02 8.48022461e-01]]\n",
      "[[8.96606445e-01 1.26831055e-01 3.46679688e-02 3.54003906e-03]\n",
      " [1.41601562e-02 7.81860352e-01 7.32421875e-04 2.61230469e-02]\n",
      " [8.74023438e-02 1.19628906e-02 9.47753906e-01 1.42333984e-01]\n",
      " [1.83105469e-03 7.93457031e-02 1.68457031e-02 8.28002930e-01]]\n",
      "[[9.78271484e-01 1.43920898e-01 1.86767578e-02 1.34277344e-03]\n",
      " [1.67236328e-02 8.51562500e-01 6.10351562e-04 1.77001953e-02]\n",
      " [5.00488281e-03 1.22070312e-03 9.65576172e-01 1.28906250e-01]\n",
      " [0.00000000e+00 3.29589844e-03 1.51367188e-02 8.52050781e-01]]\n",
      "[[6.48559570e-01 1.01074219e-01 2.84423828e-02 4.39453125e-03]\n",
      " [1.03759766e-02 6.12915039e-01 1.22070312e-04 2.39257812e-02]\n",
      " [3.35449219e-01 3.80859375e-02 9.53247070e-01 1.29638672e-01]\n",
      " [5.61523438e-03 2.47924805e-01 1.81884766e-02 8.42041016e-01]]\n",
      "[[9.69970703e-01 1.35498047e-01 3.06396484e-02 4.39453125e-03]\n",
      " [1.79443359e-02 8.51440430e-01 2.44140625e-04 2.47802734e-02]\n",
      " [1.19628906e-02 2.19726562e-03 9.52392578e-01 1.30126953e-01]\n",
      " [1.22070312e-04 1.08642578e-02 1.67236328e-02 8.40698242e-01]]\n",
      "[[0.89672852 0.12780762 0.06506348 0.00854492]\n",
      " [0.01745605 0.80554199 0.00109863 0.05444336]\n",
      " [0.08447266 0.00830078 0.91918945 0.13305664]\n",
      " [0.00134277 0.05834961 0.01464844 0.80395508]]\n"
     ]
    }
   ],
   "source": [
    "for i in range(len(meas_fitters)):\n",
    "    print(meas_fitters[i].cal_matrix)"
   ]
  },
  {
   "cell_type": "code",
   "execution_count": 13,
   "id": "ca666395-d175-44ae-abe9-7763b84ec19f",
   "metadata": {},
   "outputs": [],
   "source": [
    "for i in range(len(meas_fitters)):\n",
    "    np.savetxt('cal_matrices_for_two_qubtis.txt', meas_fitters[i].cal_matrix, delimiter=',')"
   ]
  },
  {
   "cell_type": "code",
   "execution_count": 14,
   "id": "3cc11a44-cc3b-47ac-b591-c9ea2b0cb698",
   "metadata": {},
   "outputs": [],
   "source": [
    "for i in range(len(meas_fitters)):\n",
    "    with open(\"cal_matrices_for_two_qubtis.txt\", \"a\") as f:\n",
    "        np.savetxt(f, meas_fitters[i].cal_matrix, delimiter=',')\n",
    "    # f.write(\"\\n\")"
   ]
  },
  {
   "cell_type": "code",
   "execution_count": 15,
   "id": "dd971d55-ec77-4f71-9a66-4a330a6155ea",
   "metadata": {},
   "outputs": [],
   "source": [
    "import pickle\n",
    "import matplotlib.pyplot as plt\n",
    "import numpy as np"
   ]
  },
  {
   "cell_type": "code",
   "execution_count": 16,
   "id": "5a459a80-c20b-461a-87ff-4c08ce37c14a",
   "metadata": {},
   "outputs": [
    {
     "data": {
      "image/png": "[encoded data removed]",
      "text/plain": [
       "<Figure size 432x288 with 5 Axes>"
      ]
     },
     "metadata": {
      "needs_background": "light"
     },
     "output_type": "display_data"
    }
   ],
   "source": [
    "fig, axes = plt.subplots(nrows=2, ncols=2)\n",
    "for ax in axes.flat:\n",
    "    im = ax.imshow(np.random.random((10,10)), vmin=0, vmax=1)\n",
    "\n",
    "fig.subplots_adjust(right=0.8)\n",
    "cbar_ax = fig.add_axes([0.85, 0.15, 0.05, 0.7])\n",
    "fig.colorbar(im, cax=cbar_ax)\n",
    "\n",
    "plt.show()"
   ]
  },
  {
   "cell_type": "code",
   "execution_count": 32,
   "id": "b99b9d06-3c8c-4997-a07e-e6667b3f95e0",
   "metadata": {},
   "outputs": [],
   "source": [
    "def get_cmap(n, name='hsv'):\n",
    "    '''Returns a function that maps each index in 0, 1, ..., n-1 to a distinct \n",
    "    RGB color; the keyword argument name must be a standard mpl colormap name.'''\n",
    "    return plt.cm.get_cmap(name, n)"
   ]
  },
  {
   "cell_type": "code",
   "execution_count": 31,
   "id": "526f0af7-05ab-4d15-ac43-557741b0edd7",
   "metadata": {},
   "outputs": [
    {
     "ename": "NameError",
     "evalue": "name 'get_cmap' is not defined",
     "output_type": "error",
     "traceback": [
      "\u001b[0;31m---------------------------------------------------------------------------\u001b[0m",
      "\u001b[0;31mNameError\u001b[0m                                 Traceback (most recent call last)",
      "\u001b[0;32m/tmp/ipykernel_224/1597160513.py\u001b[0m in \u001b[0;36m<module>\u001b[0;34m\u001b[0m\n\u001b[1;32m      6\u001b[0m \u001b[0mC_p\u001b[0m \u001b[0;34m=\u001b[0m \u001b[0;36m20\u001b[0m \u001b[0;31m# Classes\u001b[0m\u001b[0;34m\u001b[0m\u001b[0;34m\u001b[0m\u001b[0m\n\u001b[1;32m      7\u001b[0m \u001b[0;34m\u001b[0m\u001b[0m\n\u001b[0;32m----> 8\u001b[0;31m \u001b[0mcolours\u001b[0m \u001b[0;34m=\u001b[0m \u001b[0mget_cmap\u001b[0m\u001b[0;34m(\u001b[0m\u001b[0mC_p\u001b[0m\u001b[0;34m,\u001b[0m \u001b[0mname\u001b[0m\u001b[0;34m=\u001b[0m\u001b[0;34m'tab20c'\u001b[0m\u001b[0;34m)\u001b[0m\u001b[0;31m#mpl.colors.ListedColormap(colours_rgb)\u001b[0m\u001b[0;34m\u001b[0m\u001b[0;34m\u001b[0m\u001b[0m\n\u001b[0m\u001b[1;32m      9\u001b[0m \u001b[0;34m\u001b[0m\u001b[0m\n\u001b[1;32m     10\u001b[0m \u001b[0;34m\u001b[0m\u001b[0m\n",
      "\u001b[0;31mNameError\u001b[0m: name 'get_cmap' is not defined"
     ]
    }
   ],
   "source": [
    "import matplotlib as mpl\n",
    "from matplotlib import cm\n",
    "import matplotlib.pyplot as plt\n",
    "import numpy as np\n",
    "\n",
    "C_p = 20 # Classes\n",
    "\n",
    "colours = get_cmap(C_p, name='tab20c')#mpl.colors.ListedColormap(colours_rgb)\n",
    "\n",
    "\n",
    "\n",
    "# make a color map of fixed colors\n",
    "\n",
    "bounds=np.linspace(start=0, stop=1.0, num=21)\n",
    "\n",
    "norm = mpl.colors.BoundaryNorm(bounds, C_p)"
   ]
  },
  {
   "cell_type": "code",
   "execution_count": null,
   "id": "45784a4e-82fe-4ac0-9a83-fac34a54ac25",
   "metadata": {},
   "outputs": [],
   "source": [
    "import matplotlib as mpl\n",
    "from matplotlib import cm\n",
    "import matplotlib.pyplot as plt\n",
    "import numpy as np\n",
    "norm = mpl.colors.Normalize(vmin=0, vmax=0.15)\n",
    "\n",
    "#cb1 = mpl.colorbar.ColorbarBase(ax, cmap=cmap,\n",
    "#                                norm=norm,\n",
    "#                                orientation='horizontal')"
   ]
  },
  {
   "cell_type": "code",
   "execution_count": 25,
   "id": "1a41867a-8f75-4c72-98b5-3c790522d2f7",
   "metadata": {},
   "outputs": [
    {
     "name": "stdout",
     "output_type": "stream",
     "text": [
      "[[0.84289551 0.11218262 0.02770996 0.00292969]\n",
      " [0.02709961 0.81811523 0.00146484 0.02258301]\n",
      " [0.12536621 0.01159668 0.93579102 0.11376953]\n",
      " [0.00463867 0.05810547 0.03503418 0.86071777]]\n",
      "[[9.68017578e-01 1.34033203e-01 6.95800781e-02 1.03759766e-02]\n",
      " [1.67236328e-02 8.49731445e-01 1.22070312e-03 5.70068359e-02]\n",
      " [1.50146484e-02 2.31933594e-03 9.11010742e-01 1.28540039e-01]\n",
      " [2.44140625e-04 1.39160156e-02 1.81884766e-02 8.04077148e-01]]\n",
      "[[9.31884766e-01 1.25366211e-01 5.02929688e-02 8.05664062e-03]\n",
      " [1.56250000e-02 8.22387695e-01 4.88281250e-04 4.66308594e-02]\n",
      " [5.18798828e-02 7.32421875e-03 9.35668945e-01 1.33056641e-01]\n",
      " [6.10351562e-04 4.49218750e-02 1.35498047e-02 8.12255859e-01]]\n",
      "[[0.97167969 0.14306641 0.08642578 0.01049805]\n",
      " [0.01574707 0.84350586 0.00109863 0.06945801]\n",
      " [0.01257324 0.00134277 0.89758301 0.12255859]\n",
      " [0.         0.01208496 0.01489258 0.79748535]]\n",
      "[[8.86596680e-01 1.13403320e-01 9.38720703e-02 1.39160156e-02]\n",
      " [1.50146484e-02 7.82470703e-01 4.88281250e-04 7.94677734e-02]\n",
      " [9.64355469e-02 1.41601562e-02 8.90991211e-01 1.24633789e-01]\n",
      " [1.95312500e-03 8.99658203e-02 1.46484375e-02 7.81982422e-01]]\n",
      "[[9.61303711e-01 1.34033203e-01 2.07519531e-02 3.17382812e-03]\n",
      " [1.66015625e-02 8.43750000e-01 3.66210938e-04 1.57470703e-02]\n",
      " [2.13623047e-02 3.41796875e-03 9.64721680e-01 1.43432617e-01]\n",
      " [7.32421875e-04 1.87988281e-02 1.41601562e-02 8.37646484e-01]]\n",
      "[[9.58618164e-01 1.39892578e-01 5.11474609e-02 8.05664062e-03]\n",
      " [1.78222656e-02 8.32397461e-01 9.76562500e-04 4.19921875e-02]\n",
      " [2.31933594e-02 3.90625000e-03 9.32128906e-01 1.40869141e-01]\n",
      " [3.66210938e-04 2.38037109e-02 1.57470703e-02 8.09082031e-01]]\n",
      "[[9.62890625e-01 1.39648438e-01 9.27734375e-03 1.22070312e-03]\n",
      " [1.52587891e-02 8.35449219e-01 3.66210938e-04 8.42285156e-03]\n",
      " [2.14843750e-02 4.51660156e-03 9.77294922e-01 1.33544922e-01]\n",
      " [3.66210938e-04 2.03857422e-02 1.30615234e-02 8.56811523e-01]]\n",
      "[[9.55688477e-01 1.35620117e-01 5.01708984e-02 6.22558594e-03]\n",
      " [1.46484375e-02 8.32885742e-01 7.32421875e-04 4.49218750e-02]\n",
      " [2.90527344e-02 5.12695312e-03 9.32373047e-01 1.34887695e-01]\n",
      " [6.10351562e-04 2.63671875e-02 1.67236328e-02 8.13964844e-01]]\n",
      "[[9.48852539e-01 1.37695312e-01 1.97753906e-02 2.44140625e-03]\n",
      " [1.66015625e-02 8.28491211e-01 2.44140625e-04 1.87988281e-02]\n",
      " [3.43017578e-02 5.24902344e-03 9.66186523e-01 1.30737305e-01]\n",
      " [2.44140625e-04 2.85644531e-02 1.37939453e-02 8.48022461e-01]]\n",
      "[[8.96606445e-01 1.26831055e-01 3.46679688e-02 3.54003906e-03]\n",
      " [1.41601562e-02 7.81860352e-01 7.32421875e-04 2.61230469e-02]\n",
      " [8.74023438e-02 1.19628906e-02 9.47753906e-01 1.42333984e-01]\n",
      " [1.83105469e-03 7.93457031e-02 1.68457031e-02 8.28002930e-01]]\n",
      "[[9.78271484e-01 1.43920898e-01 1.86767578e-02 1.34277344e-03]\n",
      " [1.67236328e-02 8.51562500e-01 6.10351562e-04 1.77001953e-02]\n",
      " [5.00488281e-03 1.22070312e-03 9.65576172e-01 1.28906250e-01]\n",
      " [0.00000000e+00 3.29589844e-03 1.51367188e-02 8.52050781e-01]]\n",
      "[[6.48559570e-01 1.01074219e-01 2.84423828e-02 4.39453125e-03]\n",
      " [1.03759766e-02 6.12915039e-01 1.22070312e-04 2.39257812e-02]\n",
      " [3.35449219e-01 3.80859375e-02 9.53247070e-01 1.29638672e-01]\n",
      " [5.61523438e-03 2.47924805e-01 1.81884766e-02 8.42041016e-01]]\n",
      "[[9.69970703e-01 1.35498047e-01 3.06396484e-02 4.39453125e-03]\n",
      " [1.79443359e-02 8.51440430e-01 2.44140625e-04 2.47802734e-02]\n",
      " [1.19628906e-02 2.19726562e-03 9.52392578e-01 1.30126953e-01]\n",
      " [1.22070312e-04 1.08642578e-02 1.67236328e-02 8.40698242e-01]]\n",
      "[[0.89672852 0.12780762 0.06506348 0.00854492]\n",
      " [0.01745605 0.80554199 0.00109863 0.05444336]\n",
      " [0.08447266 0.00830078 0.91918945 0.13305664]\n",
      " [0.00134277 0.05834961 0.01464844 0.80395508]]\n"
     ]
    },
    {
     "ename": "TypeError",
     "evalue": "'AxesSubplot' object is not iterable",
     "output_type": "error",
     "traceback": [
      "\u001b[0;31m---------------------------------------------------------------------------\u001b[0m",
      "\u001b[0;31mTypeError\u001b[0m                                 Traceback (most recent call last)",
      "\u001b[0;32m/tmp/ipykernel_224/1857846368.py\u001b[0m in \u001b[0;36m<module>\u001b[0;34m\u001b[0m\n\u001b[1;32m      8\u001b[0m \u001b[0;34m\u001b[0m\u001b[0m\n\u001b[1;32m      9\u001b[0m \u001b[0;32mfor\u001b[0m \u001b[0maxs\u001b[0m \u001b[0;32min\u001b[0m \u001b[0maxs2d\u001b[0m\u001b[0;34m:\u001b[0m\u001b[0;34m\u001b[0m\u001b[0;34m\u001b[0m\u001b[0m\n\u001b[0;32m---> 10\u001b[0;31m     \u001b[0;32mfor\u001b[0m \u001b[0max\u001b[0m \u001b[0;32min\u001b[0m \u001b[0maxs\u001b[0m\u001b[0;34m:\u001b[0m\u001b[0;34m\u001b[0m\u001b[0;34m\u001b[0m\u001b[0m\n\u001b[0m\u001b[1;32m     11\u001b[0m         \u001b[0mim\u001b[0m \u001b[0;34m=\u001b[0m \u001b[0max\u001b[0m\u001b[0;34m.\u001b[0m\u001b[0mimshow\u001b[0m\u001b[0;34m(\u001b[0m\u001b[0mmeas_fitters\u001b[0m\u001b[0;34m[\u001b[0m\u001b[0mi\u001b[0m\u001b[0;34m]\u001b[0m\u001b[0;34m.\u001b[0m\u001b[0mcal_matrix\u001b[0m\u001b[0;34m,\u001b[0m \u001b[0mnorm\u001b[0m\u001b[0;34m=\u001b[0m\u001b[0mnorm\u001b[0m\u001b[0;34m)\u001b[0m\u001b[0;34m\u001b[0m\u001b[0;34m\u001b[0m\u001b[0m\n\u001b[1;32m     12\u001b[0m \u001b[0mfig\u001b[0m\u001b[0;34m.\u001b[0m\u001b[0msubplots_adjust\u001b[0m\u001b[0;34m(\u001b[0m\u001b[0mright\u001b[0m\u001b[0;34m=\u001b[0m\u001b[0;36m0.8\u001b[0m\u001b[0;34m)\u001b[0m\u001b[0;34m\u001b[0m\u001b[0;34m\u001b[0m\u001b[0m\n",
      "\u001b[0;31mTypeError\u001b[0m: 'AxesSubplot' object is not iterable"
     ]
    },
    {
     "data": {
      "image/png": "[encoded data removed]",
      "text/plain": [
       "<Figure size 1200x800 with 3 Axes>"
      ]
     },
     "metadata": {
      "needs_background": "light"
     },
     "output_type": "display_data"
    }
   ],
   "source": [
    "for i in range(len(meas_fitters)):\n",
    "    print(meas_fitters[i].cal_matrix)\n",
    "    \n",
    "fig, axs2d = plt.subplots(nrows=1, ncols=3, dpi = 200)\n",
    "fig.tight_layout()\n",
    "\n",
    "norm = mpl.colors.Normalize(vmin=0, vmax=0.15)\n",
    "\n",
    "for axs in axs2d:\n",
    "    for ax in axs:\n",
    "        im = ax.imshow(meas_fitters[i].cal_matrix, norm=norm)\n",
    "fig.subplots_adjust(right=0.8)\n",
    "\n",
    "#cmap = colours,\n",
    "\n",
    "\n",
    "cbar = fig.add_axes([0.85, 0.15, 0.05, 0.75])\n",
    "fig.colorbar(im, cax=cbar_ax)"
   ]
  },
  {
   "cell_type": "code",
   "execution_count": 48,
   "id": "213e0f76-5e33-453b-92c5-ac950d7c05ef",
   "metadata": {},
   "outputs": [
    {
     "name": "stdout",
     "output_type": "stream",
     "text": [
      "0\n",
      "1\n",
      "2\n",
      "3\n",
      "4\n",
      "5\n",
      "6\n",
      "7\n",
      "8\n",
      "9\n",
      "10\n",
      "11\n",
      "12\n",
      "13\n",
      "14\n"
     ]
    },
    {
     "name": "stderr",
     "output_type": "stream",
     "text": [
      "/tmp/ipykernel_224/2691989560.py:18: MatplotlibDeprecationWarning: The 'norm' parameter to Colorbar has no effect because it is overridden by the mappable; it is deprecated since 3.3 and will be removed two minor releases later.\n",
      "  fig.colorbar(im, norm=norm)\n"
     ]
    },
    {
     "data": {
      "text/plain": [
       "<matplotlib.colorbar.Colorbar at 0x7fdfc7ae88e0>"
      ]
     },
     "execution_count": 48,
     "metadata": {},
     "output_type": "execute_result"
    },
    {
     "data": {
      "image/png": "[encoded data removed]",
      "text/plain": [
       "<Figure size 1200x800 with 16 Axes>"
      ]
     },
     "metadata": {
      "needs_background": "light"
     },
     "output_type": "display_data"
    }
   ],
   "source": [
    "i = 0\n",
    "fig, axs2d = plt.subplots(nrows=3, ncols=5, dpi = 200)\n",
    "fig.tight_layout()\n",
    "\n",
    "norm = mpl.colors.Normalize(vmin=0, vmax=0.2)\n",
    "\n",
    "for axs in axs2d:\n",
    "    for ax in axs:\n",
    "        print(i)\n",
    "        im = ax.imshow(meas_fitters[i].cal_matrix, norm=norm)\n",
    "        i=i+1\n",
    "fig.subplots_adjust(right=0.8)\n",
    "\n",
    "#cmap = colours,\n",
    "\n",
    "\n",
    "#cbar = fig.add_axes([0.85, 0.15, 0.05, 0.75])\n",
    "fig.colorbar(im, norm=norm)\n",
    "#cbar = fig.add_axes([0.85, 0.15, 0.05, 0.75])\n",
    "#fig.colorbar(im, cax=cbar_ax)\n",
    "# fig.colorbar(im, ticks=np.arange(C_p),cax=cbar)\n",
    "\n",
    "#cbar.set_ylabel(\"\", rotation=90, va=\"bottom\")\n",
    "\n",
    "\n",
    "\n",
    "\n",
    "        # ax.xlabel(\"input states\")\n",
    "        # ax.ylabel(\"output states\")\n",
    "        # ax.title(\"readout calibration matrix of qubit (6 , \"+str(path[i])+\") on Rigetti Aspen-11\")\n",
    "        # ax.show()"
   ]
  },
  {
   "cell_type": "code",
   "execution_count": 43,
   "id": "6ec13b39-7f89-4eea-b923-e8a5cc2bf50c",
   "metadata": {},
   "outputs": [],
   "source": [
    "fig.savefig('2q-Cal.png')"
   ]
  },
  {
   "cell_type": "code",
   "execution_count": 47,
   "id": "7df0c46a-dd38-4e6b-b49b-e026ef26d450",
   "metadata": {},
   "outputs": [
    {
     "name": "stderr",
     "output_type": "stream",
     "text": [
      "/tmp/ipykernel_224/3995283766.py:2: MatplotlibDeprecationWarning: The 'norm' parameter to Colorbar has no effect because it is overridden by the mappable; it is deprecated since 3.3 and will be removed two minor releases later.\n",
      "  fig.colorbar(im, norm=norm)\n"
     ]
    }
   ],
   "source": [
    "norm = mpl.colors.Normalize(vmin=0, vmax=0.2)\n",
    "fig.colorbar(im, norm=norm)\n",
    "fig.show()"
   ]
  },
  {
   "cell_type": "code",
   "execution_count": 23,
   "id": "953b3eaa-3b29-4f69-bd13-ac17ebe13982",
   "metadata": {},
   "outputs": [
    {
     "name": "stdout",
     "output_type": "stream",
     "text": [
      "qubit 6 7 : [ 0.0029296875 0.00146484375 0.0115966796875 0.004638671875 ]\n",
      "qubit 6 0 : [ 0.0103759765625 0.001220703125 0.0023193359375 0.000244140625 ]\n",
      "qubit 6 1 : [ 0.008056640625 0.00048828125 0.00732421875 0.0006103515625 ]\n",
      "qubit 6 16 : [ 0.010498046875 0.0010986328125 0.0013427734375 0.0 ]\n",
      "qubit 6 17 : [ 0.013916015625 0.00048828125 0.01416015625 0.001953125 ]\n",
      "qubit 6 10 : [ 0.003173828125 0.0003662109375 0.00341796875 0.000732421875 ]\n",
      "qubit 6 11 : [ 0.008056640625 0.0009765625 0.00390625 0.0003662109375 ]\n",
      "qubit 6 26 : [ 0.001220703125 0.0003662109375 0.0045166015625 0.0003662109375 ]\n",
      "qubit 6 27 : [ 0.0062255859375 0.000732421875 0.005126953125 0.0006103515625 ]\n",
      "qubit 6 20 : [ 0.00244140625 0.000244140625 0.0052490234375 0.000244140625 ]\n",
      "qubit 6 21 : [ 0.0035400390625 0.000732421875 0.011962890625 0.0018310546875 ]\n",
      "qubit 6 36 : [ 0.0013427734375 0.0006103515625 0.001220703125 0.0 ]\n",
      "qubit 6 37 : [ 0.00439453125 0.0001220703125 0.0380859375 0.005615234375 ]\n",
      "qubit 6 30 : [ 0.00439453125 0.000244140625 0.002197265625 0.0001220703125 ]\n",
      "qubit 6 31 : [ 0.008544921875 0.0010986328125 0.00830078125 0.0013427734375 ]\n"
     ]
    }
   ],
   "source": [
    "for qubit, cal_matrix in zip(path, cal_matrices):\n",
    "    print(\"qubit\", 6, qubit, \": [\", cal_matrix[0,3], cal_matrix[1,2], cal_matrix[2,1], cal_matrix[3,0], \"]\")"
   ]
  },
  {
   "cell_type": "markdown",
   "id": "fa9cbf42-0f95-453e-b626-bce7c46e98be",
   "metadata": {
    "tags": []
   },
   "source": [
    "# Check the correctness"
   ]
  },
  {
   "cell_type": "code",
   "execution_count": 24,
   "id": "301952e4-fda6-48ba-a44d-97041f44f26b",
   "metadata": {},
   "outputs": [
    {
     "name": "stderr",
     "output_type": "stream",
     "text": [
      "/opt/conda/lib/python3.9/site-packages/qiskit_rigetti/_qcs_job.py:117: UserWarning: barriers are currently omitted during execution on a RigettiQCSBackend\n",
      "  warnings.warn(\"barriers are currently omitted during execution on a RigettiQCSBackend\")\n",
      "/opt/conda/lib/python3.9/site-packages/rpcq/_client.py:202: UserWarning: SIMPLE-WARNING: Unhandled pragma in qubit relabeling: #<PRAGMA OPENQASM 2.0>\n",
      "  warn(f\"{warning.kind}: {warning.body}\")\n"
     ]
    }
   ],
   "source": [
    "job = execute(meas_calibs, backend, shots=1 << 13, initial_layout=[6,100], optimization_level=3)"
   ]
  },
  {
   "cell_type": "markdown",
   "id": "d61f5e28-ba2e-4232-b51c-c686860bbde5",
   "metadata": {},
   "source": [
    "# Tensor Product Noise Model (not used)"
   ]
  },
  {
   "cell_type": "code",
   "execution_count": null,
   "id": "5b562895-2fd8-4f95-a38c-e0b8db018c97",
   "metadata": {},
   "outputs": [],
   "source": [
    "result = records[\"result\"]\n",
    "meas_fitter = records[\"meas_fitter\"]\n",
    "cal_matrix = meas_fitter.cal_matrix"
   ]
  },
  {
   "cell_type": "code",
   "execution_count": 3,
   "id": "583d11bb-2960-436c-b5bb-89067f67cb48",
   "metadata": {},
   "outputs": [],
   "source": [
    "from qiskit.ignis.mitigation.measurement import TensoredMeasFitter"
   ]
  },
  {
   "cell_type": "code",
   "execution_count": 5,
   "id": "fd01d598-777e-4faf-8695-9ac471965211",
   "metadata": {},
   "outputs": [],
   "source": [
    "from qiskit.result import Result\n",
    "\n",
    "def separate_results(one_job_results):\n",
    "    return [Result(backend_name=one_job_results.backend_name,\n",
    "                   backend_version=one_job_results.backend_version,\n",
    "                   qobj_id=one_job_results.qobj_id,\n",
    "                   job_id=one_job_results.job_id,\n",
    "                   success=True,\n",
    "                   results=[results]) for results in one_job_results.results]\n",
    "\n",
    "\n",
    "def merge_results(results_list):\n",
    "    results = []\n",
    "    for res in results_list:\n",
    "        results += res.results\n",
    "    return Result(backend_name=results_list[0].backend_name,\n",
    "                  backend_version=results_list[0].backend_version,\n",
    "                  qobj_id=results_list[0].qobj_id,\n",
    "                  job_id=results_list[0].job_id,\n",
    "                  success=True,\n",
    "                  results=results)"
   ]
  },
  {
   "cell_type": "code",
   "execution_count": 6,
   "id": "d446e450-fe39-4837-8a59-beee44dce94e",
   "metadata": {},
   "outputs": [],
   "source": [
    "results_list = separate_results(result)"
   ]
  },
  {
   "cell_type": "code",
   "execution_count": 7,
   "id": "e1799a7c-4512-4854-b988-8ed6e6733e66",
   "metadata": {},
   "outputs": [
    {
     "data": {
      "text/plain": [
       "256"
      ]
     },
     "execution_count": 7,
     "metadata": {},
     "output_type": "execute_result"
    }
   ],
   "source": [
    "len(results_list)"
   ]
  },
  {
   "cell_type": "code",
   "execution_count": 8,
   "id": "7a341191-3498-4248-9168-a73962354793",
   "metadata": {},
   "outputs": [],
   "source": [
    "tensored_result = merge_results([results_list[0], results_list[-1]])"
   ]
  },
  {
   "cell_type": "code",
   "execution_count": 21,
   "id": "a71a0f40-108a-424b-99de-561d6f58789c",
   "metadata": {},
   "outputs": [],
   "source": [
    "tensored_fitter = TensoredMeasFitter(tensored_result, mit_pattern=[[i] for i in range(num_qubits)])"
   ]
  },
  {
   "cell_type": "code",
   "execution_count": 22,
   "id": "a1012d59-ba65-409a-b5c1-9a035d5eb277",
   "metadata": {},
   "outputs": [
    {
     "data": {
      "text/plain": [
       "[array([[0.98364258, 0.10070801],\n",
       "        [0.01635742, 0.89929199]]),\n",
       " array([[0.94384766, 0.07263184],\n",
       "        [0.05615234, 0.92736816]]),\n",
       " array([[0.94445801, 0.12524414],\n",
       "        [0.05554199, 0.87475586]]),\n",
       " array([[0.81604004, 0.13793945],\n",
       "        [0.18395996, 0.86206055]]),\n",
       " array([[0.93054199, 0.09289551],\n",
       "        [0.06945801, 0.90710449]]),\n",
       " array([[0.90795898, 0.0390625 ],\n",
       "        [0.09204102, 0.9609375 ]]),\n",
       " array([[0.98486328, 0.05224609],\n",
       "        [0.01513672, 0.94775391]]),\n",
       " array([[0.9329834 , 0.03234863],\n",
       "        [0.0670166 , 0.96765137]])]"
      ]
     },
     "execution_count": 22,
     "metadata": {},
     "output_type": "execute_result"
    }
   ],
   "source": [
    "tensored_fitter.cal_matrices"
   ]
  },
  {
   "cell_type": "markdown",
   "id": "51dac14b-ddae-4c31-ab02-c07d6b0d7c9b",
   "metadata": {},
   "source": [
    "- "
   ]
  },
  {
   "cell_type": "markdown",
   "id": "5cf19dc5-6acb-4ad3-987f-0e4e0aa8fc67",
   "metadata": {},
   "source": [
    "# TODO\n",
    "\n",
    "- check the difference of the full calibration matrix and tensor product of the single qubit calibration matrix\n",
    "- check the difference of the magnitude of the correlations between different order of correlation: 2-qubit / 3-qubit"
   ]
  },
  {
   "cell_type": "markdown",
   "id": "c35b5114-5ba5-4c8b-9fd4-02670ebab363",
   "metadata": {},
   "source": [
    "$\\rho_{ABC}$→$\\rho_A, \\rho_B, \\rho_C$\n",
    "\n",
    "$\\rho_A, \\rho_B, \\rho_C$→$\\rho_{ABC}$"
   ]
  },
  {
   "cell_type": "markdown",
   "id": "d96cf4a2-3fa3-4841-afa2-c7738c66f572",
   "metadata": {},
   "source": [
    "$\\rho_{AB}$, $\\rho_{BC}$, $\\rho_{CA}$, $\\rho_A, \\rho_B, \\rho_C$"
   ]
  },
  {
   "cell_type": "markdown",
   "id": "5c7ccd5e-22af-4bda-ab0d-bec265f74b49",
   "metadata": {},
   "source": []
  },
  {
   "cell_type": "code",
   "execution_count": null,
   "id": "555da824-2025-4f8b-862e-8f23063b5198",
   "metadata": {},
   "outputs": [],
   "source": []
  }
 ],
 "metadata": {
  "kernelspec": {
   "display_name": "Python [conda env:root] *",
   "language": "python",
   "name": "conda-root-py"
  },
  "language_info": {
   "codemirror_mode": {
    "name": "ipython",
    "version": 3
   },
   "file_extension": ".py",
   "mimetype": "text/x-python",
   "name": "python",
   "nbconvert_exporter": "python",
   "pygments_lexer": "ipython3",
   "version": "3.9.7"
  }
 },
 "nbformat": 4,
 "nbformat_minor": 5
}
