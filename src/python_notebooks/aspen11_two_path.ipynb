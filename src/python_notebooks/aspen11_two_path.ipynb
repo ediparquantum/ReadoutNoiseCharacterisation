{
 "cells": [
  {
   "cell_type": "code",
   "execution_count": 1,
   "id": "c5ce221e-c95e-4261-a852-a1892c0a06cb",
   "metadata": {},
   "outputs": [],
   "source": [
    "import pickle\n",
    "import matplotlib.pyplot as plt\n",
    "import numpy as np"
   ]
  },
  {
   "cell_type": "code",
   "execution_count": 2,
   "id": "7e5e5e93",
   "metadata": {},
   "outputs": [],
   "source": [
    "from qiskit import QuantumCircuit, QuantumRegister, ClassicalRegister\n",
    "from qiskit import execute, Aer\n",
    "from qiskit.tools import job_monitor\n",
    "from qiskit.visualization import array_to_latex"
   ]
  },
  {
   "cell_type": "code",
   "execution_count": 3,
   "id": "2fda0f50",
   "metadata": {},
   "outputs": [],
   "source": [
    "from qiskit_rigetti import RigettiQCSBackend, RigettiQCSJob, RigettiQCSProvider\n",
    "from qiskit_rigetti import QuilCircuit"
   ]
  },
  {
   "cell_type": "code",
   "execution_count": 4,
   "id": "431f8827",
   "metadata": {},
   "outputs": [
    {
     "data": {
      "text/plain": [
       "[<RigettiQCSBackend('Aspen-11')>,\n",
       " <RigettiQCSBackend('Aspen-12')>,\n",
       " <RigettiQCSBackend('Aspen-M-2')>]"
      ]
     },
     "execution_count": 4,
     "metadata": {},
     "output_type": "execute_result"
    }
   ],
   "source": [
    "# Get provider and backend\n",
    "provider = RigettiQCSProvider()\n",
    "provider.backends()"
   ]
  },
  {
   "cell_type": "code",
   "execution_count": 5,
   "id": "112a1770-4511-4380-8c35-47bdc06738cf",
   "metadata": {},
   "outputs": [
    {
     "data": {
      "text/plain": [
       "<RigettiQCSBackend('Aspen-11')>"
      ]
     },
     "execution_count": 5,
     "metadata": {},
     "output_type": "execute_result"
    }
   ],
   "source": [
    "backend = provider.get_backend(\"Aspen-11\")\n",
    "backend"
   ]
  },
  {
   "cell_type": "code",
   "execution_count": 6,
   "id": "52dd38e2",
   "metadata": {},
   "outputs": [],
   "source": [
    "from qiskit.ignis.mitigation.measurement import complete_meas_cal, CompleteMeasFitter"
   ]
  },
  {
   "cell_type": "code",
   "execution_count": 7,
   "id": "fa2f7166",
   "metadata": {},
   "outputs": [
    {
     "data": {
      "text/plain": [
       "4"
      ]
     },
     "execution_count": 7,
     "metadata": {},
     "output_type": "execute_result"
    }
   ],
   "source": [
    "num_qubits = 2\n",
    "qr = QuantumRegister(num_qubits)\n",
    "meas_calibs, state_labels = complete_meas_cal(qr=qr)\n",
    "len(meas_calibs)"
   ]
  },
  {
   "cell_type": "code",
   "execution_count": 8,
   "id": "136fce26-4796-4f9d-9e18-8ad38cdbb0e8",
   "metadata": {},
   "outputs": [
    {
     "data": {
      "text/html": [
       "<pre style=\"word-wrap: normal;white-space: pre;background: #fff0;line-height: 1.1;font-family: &quot;Courier New&quot;,Courier,monospace\">       ░ ┌─┐   \n",
       "q0_0: ─░─┤M├───\n",
       "       ░ └╥┘┌─┐\n",
       "q0_1: ─░──╫─┤M├\n",
       "       ░  ║ └╥┘\n",
       "c0: 2/════╩══╩═\n",
       "          0  1 </pre>"
      ],
      "text/plain": [
       "       ░ ┌─┐   \n",
       "q0_0: ─░─┤M├───\n",
       "       ░ └╥┘┌─┐\n",
       "q0_1: ─░──╫─┤M├\n",
       "       ░  ║ └╥┘\n",
       "c0: 2/════╩══╩═\n",
       "          0  1 "
      ]
     },
     "execution_count": 8,
     "metadata": {},
     "output_type": "execute_result"
    }
   ],
   "source": [
    "meas_calibs[0].draw()"
   ]
  },
  {
   "cell_type": "code",
   "execution_count": 9,
   "id": "49b841b5-3e70-4db8-b2d7-02bea0973f9c",
   "metadata": {},
   "outputs": [
    {
     "name": "stdout",
     "output_type": "stream",
     "text": [
      "started 6 and 7\n"
     ]
    },
    {
     "name": "stderr",
     "output_type": "stream",
     "text": [
      "/opt/conda/lib/python3.9/site-packages/qiskit_rigetti/_qcs_job.py:117: UserWarning: barriers are currently omitted during execution on a RigettiQCSBackend\n",
      "  warnings.warn(\"barriers are currently omitted during execution on a RigettiQCSBackend\")\n"
     ]
    },
    {
     "name": "stdout",
     "output_type": "stream",
     "text": [
      "finished 6 and 7\n",
      "\n",
      "started 6 and 0\n",
      "finished 6 and 0\n",
      "\n",
      "started 6 and 1\n",
      "finished 6 and 1\n",
      "\n",
      "started 6 and 16\n",
      "finished 6 and 16\n",
      "\n",
      "started 6 and 17\n",
      "finished 6 and 17\n",
      "\n",
      "started 6 and 10\n",
      "finished 6 and 10\n",
      "\n",
      "started 6 and 11\n",
      "finished 6 and 11\n",
      "\n",
      "started 6 and 26\n",
      "finished 6 and 26\n",
      "\n",
      "started 6 and 27\n",
      "finished 6 and 27\n",
      "\n",
      "started 6 and 20\n",
      "finished 6 and 20\n",
      "\n",
      "started 6 and 21\n",
      "finished 6 and 21\n",
      "\n",
      "started 6 and 36\n",
      "finished 6 and 36\n",
      "\n",
      "started 6 and 37\n",
      "finished 6 and 37\n",
      "\n",
      "started 6 and 30\n",
      "finished 6 and 30\n",
      "\n",
      "started 6 and 31\n",
      "finished 6 and 31\n",
      "\n"
     ]
    }
   ],
   "source": [
    "# Execute the circuit on the backend\n",
    "jobs = []\n",
    "job_ids = []\n",
    "results = []\n",
    "path = [7,0,1,16,17,10,11,26,27,20,21,36,37,30,31]\n",
    "for i in path:\n",
    "    print(\"started\", 6, \"and\", i)\n",
    "    job = execute(meas_calibs, backend, shots=1 << 13, initial_layout=[6,i], optimization_level=3)\n",
    "    jobs.append(job)\n",
    "    results.append(job.result())\n",
    "    print(\"finished\", 6, \"and\", i)\n",
    "    print()"
   ]
  },
  {
   "cell_type": "code",
   "execution_count": 10,
   "id": "df2de246-69c5-4d1c-b351-283c010d3423",
   "metadata": {},
   "outputs": [
    {
     "data": {
      "text/plain": [
       "256"
      ]
     },
     "execution_count": 10,
     "metadata": {},
     "output_type": "execute_result"
    }
   ],
   "source": [
    "num_qubits = 8\n",
    "qr = QuantumRegister(num_qubits)\n",
    "meas_calibs, state_labels = complete_meas_cal(qr=qr)\n",
    "len(meas_calibs)"
   ]
  },
  {
   "cell_type": "code",
   "execution_count": 11,
   "id": "a092af4e-a186-4caa-8f12-703a0d02a676",
   "metadata": {},
   "outputs": [
    {
     "data": {
      "text/html": [
       "<pre style=\"word-wrap: normal;white-space: pre;background: #fff0;line-height: 1.1;font-family: &quot;Courier New&quot;,Courier,monospace\">       ░ ┌─┐                     \n",
       "q1_0: ─░─┤M├─────────────────────\n",
       "       ░ └╥┘┌─┐                  \n",
       "q1_1: ─░──╫─┤M├──────────────────\n",
       "       ░  ║ └╥┘┌─┐               \n",
       "q1_2: ─░──╫──╫─┤M├───────────────\n",
       "       ░  ║  ║ └╥┘┌─┐            \n",
       "q1_3: ─░──╫──╫──╫─┤M├────────────\n",
       "       ░  ║  ║  ║ └╥┘┌─┐         \n",
       "q1_4: ─░──╫──╫──╫──╫─┤M├─────────\n",
       "       ░  ║  ║  ║  ║ └╥┘┌─┐      \n",
       "q1_5: ─░──╫──╫──╫──╫──╫─┤M├──────\n",
       "       ░  ║  ║  ║  ║  ║ └╥┘┌─┐   \n",
       "q1_6: ─░──╫──╫──╫──╫──╫──╫─┤M├───\n",
       "       ░  ║  ║  ║  ║  ║  ║ └╥┘┌─┐\n",
       "q1_7: ─░──╫──╫──╫──╫──╫──╫──╫─┤M├\n",
       "       ░  ║  ║  ║  ║  ║  ║  ║ └╥┘\n",
       "c1: 8/════╩══╩══╩══╩══╩══╩══╩══╩═\n",
       "          0  1  2  3  4  5  6  7 </pre>"
      ],
      "text/plain": [
       "       ░ ┌─┐                     \n",
       "q1_0: ─░─┤M├─────────────────────\n",
       "       ░ └╥┘┌─┐                  \n",
       "q1_1: ─░──╫─┤M├──────────────────\n",
       "       ░  ║ └╥┘┌─┐               \n",
       "q1_2: ─░──╫──╫─┤M├───────────────\n",
       "       ░  ║  ║ └╥┘┌─┐            \n",
       "q1_3: ─░──╫──╫──╫─┤M├────────────\n",
       "       ░  ║  ║  ║ └╥┘┌─┐         \n",
       "q1_4: ─░──╫──╫──╫──╫─┤M├─────────\n",
       "       ░  ║  ║  ║  ║ └╥┘┌─┐      \n",
       "q1_5: ─░──╫──╫──╫──╫──╫─┤M├──────\n",
       "       ░  ║  ║  ║  ║  ║ └╥┘┌─┐   \n",
       "q1_6: ─░──╫──╫──╫──╫──╫──╫─┤M├───\n",
       "       ░  ║  ║  ║  ║  ║  ║ └╥┘┌─┐\n",
       "q1_7: ─░──╫──╫──╫──╫──╫──╫──╫─┤M├\n",
       "       ░  ║  ║  ║  ║  ║  ║  ║ └╥┘\n",
       "c1: 8/════╩══╩══╩══╩══╩══╩══╩══╩═\n",
       "          0  1  2  3  4  5  6  7 "
      ]
     },
     "execution_count": 11,
     "metadata": {},
     "output_type": "execute_result"
    }
   ],
   "source": [
    "meas_calibs[0].draw()"
   ]
  },
  {
   "cell_type": "code",
   "execution_count": 17,
   "id": "81ed2094-8b42-4532-907b-38d8441e97e8",
   "metadata": {},
   "outputs": [
    {
     "name": "stderr",
     "output_type": "stream",
     "text": [
      "/opt/conda/lib/python3.9/site-packages/qiskit_rigetti/_qcs_job.py:117: UserWarning: barriers are currently omitted during execution on a RigettiQCSBackend\n",
      "  warnings.warn(\"barriers are currently omitted during execution on a RigettiQCSBackend\")\n"
     ]
    },
    {
     "name": "stdout",
     "output_type": "stream",
     "text": [
      "352.2215647910489 s\n"
     ]
    }
   ],
   "source": [
    "# Execute the circuit on the backend\n",
    "import time\n",
    "t1 = time.perf_counter()\n",
    "job = execute(meas_calibs, backend, shots=1 << 13, initial_layout=[6,7,0,1,16,17,10,11], optimization_level=3)\n",
    "t2 = time.perf_counter()\n",
    "print(t2 - t1, \"s\")"
   ]
  },
  {
   "cell_type": "code",
   "execution_count": 18,
   "id": "07488537-834d-4aa6-b740-eb7b8c825892",
   "metadata": {},
   "outputs": [
    {
     "name": "stderr",
     "output_type": "stream",
     "text": [
      "WARNING - Timeout on client tcp://bf07.qpu.production.qcs.rigetti.com:50053, method name get_buffers, class info: <rpcq._client.Client object at 0x7ff270b19220>, retrying in 0 seconds...\n"
     ]
    },
    {
     "ename": "QCSHTTPStatusError",
     "evalue": "QCS API call POST https://api.qcs.rigetti.com/v1/engagements failed with status 400: {\"code\":\"bad_request\",\"message\":\"A reservation is required to engage, but you do not have a current reservation\",\"requestId\":\"b16720cc-36fc-4475-9e02-811c36d0105f\"}",
     "output_type": "error",
     "traceback": [
      "\u001b[0;31m---------------------------------------------------------------------------\u001b[0m",
      "\u001b[0;31mQCSHTTPStatusError\u001b[0m                        Traceback (most recent call last)",
      "\u001b[0;32m/tmp/ipykernel_2564/1377582995.py\u001b[0m in \u001b[0;36m<module>\u001b[0;34m\u001b[0m\n\u001b[0;32m----> 1\u001b[0;31m \u001b[0mresult\u001b[0m \u001b[0;34m=\u001b[0m \u001b[0mjob\u001b[0m\u001b[0;34m.\u001b[0m\u001b[0mresult\u001b[0m\u001b[0;34m(\u001b[0m\u001b[0;34m)\u001b[0m\u001b[0;34m\u001b[0m\u001b[0;34m\u001b[0m\u001b[0m\n\u001b[0m",
      "\u001b[0;32m/opt/conda/lib/python3.9/site-packages/qiskit_rigetti/_qcs_job.py\u001b[0m in \u001b[0;36mresult\u001b[0;34m(self)\u001b[0m\n\u001b[1;32m    135\u001b[0m         \u001b[0mresults\u001b[0m \u001b[0;34m=\u001b[0m \u001b[0;34m[\u001b[0m\u001b[0;34m]\u001b[0m\u001b[0;34m\u001b[0m\u001b[0;34m\u001b[0m\u001b[0m\n\u001b[1;32m    136\u001b[0m         \u001b[0msuccess\u001b[0m \u001b[0;34m=\u001b[0m \u001b[0;32mTrue\u001b[0m\u001b[0;34m\u001b[0m\u001b[0;34m\u001b[0m\u001b[0m\n\u001b[0;32m--> 137\u001b[0;31m         \u001b[0;32mfor\u001b[0m \u001b[0mr\u001b[0m \u001b[0;32min\u001b[0m \u001b[0mself\u001b[0m\u001b[0;34m.\u001b[0m\u001b[0m_get_experiment_results\u001b[0m\u001b[0;34m(\u001b[0m\u001b[0;34m)\u001b[0m\u001b[0;34m:\u001b[0m\u001b[0;34m\u001b[0m\u001b[0;34m\u001b[0m\u001b[0m\n\u001b[0m\u001b[1;32m    138\u001b[0m             \u001b[0mresults\u001b[0m\u001b[0;34m.\u001b[0m\u001b[0mappend\u001b[0m\u001b[0;34m(\u001b[0m\u001b[0mr\u001b[0m\u001b[0;34m)\u001b[0m\u001b[0;34m\u001b[0m\u001b[0;34m\u001b[0m\u001b[0m\n\u001b[1;32m    139\u001b[0m             \u001b[0msuccess\u001b[0m \u001b[0;34m&=\u001b[0m \u001b[0mr\u001b[0m\u001b[0;34m.\u001b[0m\u001b[0msuccess\u001b[0m\u001b[0;34m\u001b[0m\u001b[0;34m\u001b[0m\u001b[0m\n",
      "\u001b[0;32m/opt/conda/lib/python3.9/site-packages/qiskit_rigetti/_qcs_job.py\u001b[0m in \u001b[0;36m_get_experiment_results\u001b[0;34m(self)\u001b[0m\n\u001b[1;32m    156\u001b[0m \u001b[0;34m\u001b[0m\u001b[0m\n\u001b[1;32m    157\u001b[0m         \u001b[0;32mfor\u001b[0m \u001b[0mcircuit_idx\u001b[0m\u001b[0;34m,\u001b[0m \u001b[0mresponse\u001b[0m \u001b[0;32min\u001b[0m \u001b[0menumerate\u001b[0m\u001b[0;34m(\u001b[0m\u001b[0mself\u001b[0m\u001b[0;34m.\u001b[0m\u001b[0m_responses\u001b[0m\u001b[0;34m)\u001b[0m\u001b[0;34m:\u001b[0m\u001b[0;34m\u001b[0m\u001b[0;34m\u001b[0m\u001b[0m\n\u001b[0;32m--> 158\u001b[0;31m             \u001b[0mstates\u001b[0m \u001b[0;34m=\u001b[0m \u001b[0mself\u001b[0m\u001b[0;34m.\u001b[0m\u001b[0m_qc\u001b[0m\u001b[0;34m.\u001b[0m\u001b[0mqam\u001b[0m\u001b[0;34m.\u001b[0m\u001b[0mget_result\u001b[0m\u001b[0;34m(\u001b[0m\u001b[0mresponse\u001b[0m\u001b[0;34m)\u001b[0m\u001b[0;34m.\u001b[0m\u001b[0mreadout_data\u001b[0m\u001b[0;34m[\u001b[0m\u001b[0;34m\"ro\"\u001b[0m\u001b[0;34m]\u001b[0m\u001b[0;34m\u001b[0m\u001b[0;34m\u001b[0m\u001b[0m\n\u001b[0m\u001b[1;32m    159\u001b[0m             \u001b[0mmemory\u001b[0m \u001b[0;34m=\u001b[0m \u001b[0mlist\u001b[0m\u001b[0;34m(\u001b[0m\u001b[0mmap\u001b[0m\u001b[0;34m(\u001b[0m\u001b[0m_to_binary_str\u001b[0m\u001b[0;34m,\u001b[0m \u001b[0mnp\u001b[0m\u001b[0;34m.\u001b[0m\u001b[0marray\u001b[0m\u001b[0;34m(\u001b[0m\u001b[0mstates\u001b[0m\u001b[0;34m)\u001b[0m\u001b[0;34m)\u001b[0m\u001b[0;34m)\u001b[0m\u001b[0;34m\u001b[0m\u001b[0;34m\u001b[0m\u001b[0m\n\u001b[1;32m    160\u001b[0m             \u001b[0msuccess\u001b[0m \u001b[0;34m=\u001b[0m \u001b[0;32mTrue\u001b[0m\u001b[0;34m\u001b[0m\u001b[0;34m\u001b[0m\u001b[0m\n",
      "\u001b[0;32m/opt/conda/lib/python3.9/site-packages/pyquil/api/_qpu.py\u001b[0m in \u001b[0;36mget_result\u001b[0;34m(self, execute_response)\u001b[0m\n\u001b[1;32m    178\u001b[0m         \u001b[0mRetrieve\u001b[0m \u001b[0mresults\u001b[0m \u001b[0;32mfrom\u001b[0m \u001b[0mexecution\u001b[0m \u001b[0mon\u001b[0m \u001b[0mthe\u001b[0m \u001b[0mQPU\u001b[0m\u001b[0;34m.\u001b[0m\u001b[0;34m\u001b[0m\u001b[0;34m\u001b[0m\u001b[0m\n\u001b[1;32m    179\u001b[0m         \"\"\"\n\u001b[0;32m--> 180\u001b[0;31m         \u001b[0mraw_results\u001b[0m \u001b[0;34m=\u001b[0m \u001b[0mself\u001b[0m\u001b[0;34m.\u001b[0m\u001b[0m_get_buffers\u001b[0m\u001b[0;34m(\u001b[0m\u001b[0mexecute_response\u001b[0m\u001b[0;34m.\u001b[0m\u001b[0mjob_id\u001b[0m\u001b[0;34m)\u001b[0m\u001b[0;34m\u001b[0m\u001b[0;34m\u001b[0m\u001b[0m\n\u001b[0m\u001b[1;32m    181\u001b[0m         \u001b[0mro_sources\u001b[0m \u001b[0;34m=\u001b[0m \u001b[0mexecute_response\u001b[0m\u001b[0;34m.\u001b[0m\u001b[0m_executable\u001b[0m\u001b[0;34m.\u001b[0m\u001b[0mro_sources\u001b[0m\u001b[0;34m\u001b[0m\u001b[0;34m\u001b[0m\u001b[0m\n\u001b[1;32m    182\u001b[0m \u001b[0;34m\u001b[0m\u001b[0m\n",
      "\u001b[0;32m/opt/conda/lib/python3.9/site-packages/pyquil/api/_qpu.py\u001b[0m in \u001b[0;36m_get_buffers\u001b[0;34m(self, job_id)\u001b[0m\n\u001b[1;32m    201\u001b[0m         \"\"\"\n\u001b[1;32m    202\u001b[0m         \u001b[0mrequest\u001b[0m \u001b[0;34m=\u001b[0m \u001b[0mGetBuffersRequest\u001b[0m\u001b[0;34m(\u001b[0m\u001b[0mjob_id\u001b[0m\u001b[0;34m=\u001b[0m\u001b[0mjob_id\u001b[0m\u001b[0;34m,\u001b[0m \u001b[0mwait\u001b[0m\u001b[0;34m=\u001b[0m\u001b[0;32mTrue\u001b[0m\u001b[0;34m)\u001b[0m\u001b[0;34m\u001b[0m\u001b[0;34m\u001b[0m\u001b[0m\n\u001b[0;32m--> 203\u001b[0;31m         \u001b[0mbuffers\u001b[0m \u001b[0;34m=\u001b[0m \u001b[0mself\u001b[0m\u001b[0;34m.\u001b[0m\u001b[0m_qpu_client\u001b[0m\u001b[0;34m.\u001b[0m\u001b[0mget_buffers\u001b[0m\u001b[0;34m(\u001b[0m\u001b[0mrequest\u001b[0m\u001b[0;34m)\u001b[0m\u001b[0;34m.\u001b[0m\u001b[0mbuffers\u001b[0m\u001b[0;34m\u001b[0m\u001b[0;34m\u001b[0m\u001b[0m\n\u001b[0m\u001b[1;32m    204\u001b[0m         \u001b[0;32mreturn\u001b[0m \u001b[0;34m{\u001b[0m\u001b[0mk\u001b[0m\u001b[0;34m:\u001b[0m \u001b[0mdecode_buffer\u001b[0m\u001b[0;34m(\u001b[0m\u001b[0mv\u001b[0m\u001b[0;34m)\u001b[0m \u001b[0;32mfor\u001b[0m \u001b[0mk\u001b[0m\u001b[0;34m,\u001b[0m \u001b[0mv\u001b[0m \u001b[0;32min\u001b[0m \u001b[0mbuffers\u001b[0m\u001b[0;34m.\u001b[0m\u001b[0mitems\u001b[0m\u001b[0;34m(\u001b[0m\u001b[0;34m)\u001b[0m\u001b[0;34m}\u001b[0m\u001b[0;34m\u001b[0m\u001b[0;34m\u001b[0m\u001b[0m\n\u001b[1;32m    205\u001b[0m \u001b[0;34m\u001b[0m\u001b[0m\n",
      "\u001b[0;32m/opt/conda/lib/python3.9/site-packages/pyquil/api/_qpu_client.py\u001b[0m in \u001b[0;36mget_buffers\u001b[0;34m(self, request)\u001b[0m\n\u001b[1;32m    141\u001b[0m         \u001b[0mGet\u001b[0m \u001b[0mjob\u001b[0m \u001b[0mbuffers\u001b[0m\u001b[0;34m.\u001b[0m\u001b[0;34m\u001b[0m\u001b[0;34m\u001b[0m\u001b[0m\n\u001b[1;32m    142\u001b[0m         \"\"\"\n\u001b[0;32m--> 143\u001b[0;31m         buffs = self._rpcq_request(\n\u001b[0m\u001b[1;32m    144\u001b[0m             \u001b[0;34m\"get_buffers\"\u001b[0m\u001b[0;34m,\u001b[0m\u001b[0;34m\u001b[0m\u001b[0;34m\u001b[0m\u001b[0m\n\u001b[1;32m    145\u001b[0m             \u001b[0mjob_id\u001b[0m\u001b[0;34m=\u001b[0m\u001b[0mrequest\u001b[0m\u001b[0;34m.\u001b[0m\u001b[0mjob_id\u001b[0m\u001b[0;34m,\u001b[0m\u001b[0;34m\u001b[0m\u001b[0;34m\u001b[0m\u001b[0m\n",
      "\u001b[0;32m/opt/conda/lib/python3.9/site-packages/decorator.py\u001b[0m in \u001b[0;36mfun\u001b[0;34m(*args, **kw)\u001b[0m\n\u001b[1;32m    230\u001b[0m             \u001b[0;32mif\u001b[0m \u001b[0;32mnot\u001b[0m \u001b[0mkwsyntax\u001b[0m\u001b[0;34m:\u001b[0m\u001b[0;34m\u001b[0m\u001b[0;34m\u001b[0m\u001b[0m\n\u001b[1;32m    231\u001b[0m                 \u001b[0margs\u001b[0m\u001b[0;34m,\u001b[0m \u001b[0mkw\u001b[0m \u001b[0;34m=\u001b[0m \u001b[0mfix\u001b[0m\u001b[0;34m(\u001b[0m\u001b[0margs\u001b[0m\u001b[0;34m,\u001b[0m \u001b[0mkw\u001b[0m\u001b[0;34m,\u001b[0m \u001b[0msig\u001b[0m\u001b[0;34m)\u001b[0m\u001b[0;34m\u001b[0m\u001b[0;34m\u001b[0m\u001b[0m\n\u001b[0;32m--> 232\u001b[0;31m             \u001b[0;32mreturn\u001b[0m \u001b[0mcaller\u001b[0m\u001b[0;34m(\u001b[0m\u001b[0mfunc\u001b[0m\u001b[0;34m,\u001b[0m \u001b[0;34m*\u001b[0m\u001b[0;34m(\u001b[0m\u001b[0mextras\u001b[0m \u001b[0;34m+\u001b[0m \u001b[0margs\u001b[0m\u001b[0;34m)\u001b[0m\u001b[0;34m,\u001b[0m \u001b[0;34m**\u001b[0m\u001b[0mkw\u001b[0m\u001b[0;34m)\u001b[0m\u001b[0;34m\u001b[0m\u001b[0;34m\u001b[0m\u001b[0m\n\u001b[0m\u001b[1;32m    233\u001b[0m     \u001b[0mfun\u001b[0m\u001b[0;34m.\u001b[0m\u001b[0m__name__\u001b[0m \u001b[0;34m=\u001b[0m \u001b[0mfunc\u001b[0m\u001b[0;34m.\u001b[0m\u001b[0m__name__\u001b[0m\u001b[0;34m\u001b[0m\u001b[0;34m\u001b[0m\u001b[0m\n\u001b[1;32m    234\u001b[0m     \u001b[0mfun\u001b[0m\u001b[0;34m.\u001b[0m\u001b[0m__doc__\u001b[0m \u001b[0;34m=\u001b[0m \u001b[0mfunc\u001b[0m\u001b[0;34m.\u001b[0m\u001b[0m__doc__\u001b[0m\u001b[0;34m\u001b[0m\u001b[0;34m\u001b[0m\u001b[0m\n",
      "\u001b[0;32m/opt/conda/lib/python3.9/site-packages/retry/api.py\u001b[0m in \u001b[0;36mretry_decorator\u001b[0;34m(f, *fargs, **fkwargs)\u001b[0m\n\u001b[1;32m     71\u001b[0m         \u001b[0margs\u001b[0m \u001b[0;34m=\u001b[0m \u001b[0mfargs\u001b[0m \u001b[0;32mif\u001b[0m \u001b[0mfargs\u001b[0m \u001b[0;32melse\u001b[0m \u001b[0mlist\u001b[0m\u001b[0;34m(\u001b[0m\u001b[0;34m)\u001b[0m\u001b[0;34m\u001b[0m\u001b[0;34m\u001b[0m\u001b[0m\n\u001b[1;32m     72\u001b[0m         \u001b[0mkwargs\u001b[0m \u001b[0;34m=\u001b[0m \u001b[0mfkwargs\u001b[0m \u001b[0;32mif\u001b[0m \u001b[0mfkwargs\u001b[0m \u001b[0;32melse\u001b[0m \u001b[0mdict\u001b[0m\u001b[0;34m(\u001b[0m\u001b[0;34m)\u001b[0m\u001b[0;34m\u001b[0m\u001b[0;34m\u001b[0m\u001b[0m\n\u001b[0;32m---> 73\u001b[0;31m         return __retry_internal(partial(f, *args, **kwargs), exceptions, tries, delay, max_delay, backoff, jitter,\n\u001b[0m\u001b[1;32m     74\u001b[0m                                 logger)\n\u001b[1;32m     75\u001b[0m \u001b[0;34m\u001b[0m\u001b[0m\n",
      "\u001b[0;32m/opt/conda/lib/python3.9/site-packages/retry/api.py\u001b[0m in \u001b[0;36m__retry_internal\u001b[0;34m(f, exceptions, tries, delay, max_delay, backoff, jitter, logger)\u001b[0m\n\u001b[1;32m     31\u001b[0m     \u001b[0;32mwhile\u001b[0m \u001b[0m_tries\u001b[0m\u001b[0;34m:\u001b[0m\u001b[0;34m\u001b[0m\u001b[0;34m\u001b[0m\u001b[0m\n\u001b[1;32m     32\u001b[0m         \u001b[0;32mtry\u001b[0m\u001b[0;34m:\u001b[0m\u001b[0;34m\u001b[0m\u001b[0;34m\u001b[0m\u001b[0m\n\u001b[0;32m---> 33\u001b[0;31m             \u001b[0;32mreturn\u001b[0m \u001b[0mf\u001b[0m\u001b[0;34m(\u001b[0m\u001b[0;34m)\u001b[0m\u001b[0;34m\u001b[0m\u001b[0;34m\u001b[0m\u001b[0m\n\u001b[0m\u001b[1;32m     34\u001b[0m         \u001b[0;32mexcept\u001b[0m \u001b[0mexceptions\u001b[0m \u001b[0;32mas\u001b[0m \u001b[0me\u001b[0m\u001b[0;34m:\u001b[0m\u001b[0;34m\u001b[0m\u001b[0;34m\u001b[0m\u001b[0m\n\u001b[1;32m     35\u001b[0m             \u001b[0m_tries\u001b[0m \u001b[0;34m-=\u001b[0m \u001b[0;36m1\u001b[0m\u001b[0;34m\u001b[0m\u001b[0;34m\u001b[0m\u001b[0m\n",
      "\u001b[0;32m/opt/conda/lib/python3.9/site-packages/pyquil/api/_qpu_client.py\u001b[0m in \u001b[0;36m_rpcq_request\u001b[0;34m(self, method_name, *args, **kwargs)\u001b[0m\n\u001b[1;32m    159\u001b[0m     \u001b[0;34m@\u001b[0m\u001b[0mretry\u001b[0m\u001b[0;34m(\u001b[0m\u001b[0mexceptions\u001b[0m\u001b[0;34m=\u001b[0m\u001b[0mTimeoutError\u001b[0m\u001b[0;34m,\u001b[0m \u001b[0mtries\u001b[0m\u001b[0;34m=\u001b[0m\u001b[0;36m2\u001b[0m\u001b[0;34m)\u001b[0m  \u001b[0;31m# type: ignore\u001b[0m\u001b[0;34m\u001b[0m\u001b[0;34m\u001b[0m\u001b[0m\n\u001b[1;32m    160\u001b[0m     \u001b[0;32mdef\u001b[0m \u001b[0m_rpcq_request\u001b[0m\u001b[0;34m(\u001b[0m\u001b[0mself\u001b[0m\u001b[0;34m,\u001b[0m \u001b[0mmethod_name\u001b[0m\u001b[0;34m:\u001b[0m \u001b[0mstr\u001b[0m\u001b[0;34m,\u001b[0m \u001b[0;34m*\u001b[0m\u001b[0margs\u001b[0m\u001b[0;34m:\u001b[0m \u001b[0mAny\u001b[0m\u001b[0;34m,\u001b[0m \u001b[0;34m**\u001b[0m\u001b[0mkwargs\u001b[0m\u001b[0;34m:\u001b[0m \u001b[0mAny\u001b[0m\u001b[0;34m)\u001b[0m \u001b[0;34m->\u001b[0m \u001b[0mAny\u001b[0m\u001b[0;34m:\u001b[0m\u001b[0;34m\u001b[0m\u001b[0;34m\u001b[0m\u001b[0m\n\u001b[0;32m--> 161\u001b[0;31m         engagement = self._engagement_manager.get_engagement(\n\u001b[0m\u001b[1;32m    162\u001b[0m             \u001b[0mendpoint_id\u001b[0m\u001b[0;34m=\u001b[0m\u001b[0mself\u001b[0m\u001b[0;34m.\u001b[0m\u001b[0m_endpoint_id\u001b[0m\u001b[0;34m,\u001b[0m\u001b[0;34m\u001b[0m\u001b[0;34m\u001b[0m\u001b[0m\n\u001b[1;32m    163\u001b[0m             \u001b[0mquantum_processor_id\u001b[0m\u001b[0;34m=\u001b[0m\u001b[0mself\u001b[0m\u001b[0;34m.\u001b[0m\u001b[0mquantum_processor_id\u001b[0m\u001b[0;34m,\u001b[0m\u001b[0;34m\u001b[0m\u001b[0;34m\u001b[0m\u001b[0m\n",
      "\u001b[0;32m/opt/conda/lib/python3.9/site-packages/pyquil/api/_engagement_manager.py\u001b[0m in \u001b[0;36mget_engagement\u001b[0;34m(self, quantum_processor_id, request_timeout, endpoint_id)\u001b[0m\n\u001b[1;32m     79\u001b[0m                         \u001b[0mquantum_processor_id\u001b[0m\u001b[0;34m=\u001b[0m\u001b[0mquantum_processor_id\u001b[0m\u001b[0;34m,\u001b[0m \u001b[0mendpoint_id\u001b[0m\u001b[0;34m=\u001b[0m\u001b[0mendpoint_id\u001b[0m \u001b[0;32mor\u001b[0m \u001b[0mUNSET\u001b[0m\u001b[0;34m\u001b[0m\u001b[0;34m\u001b[0m\u001b[0m\n\u001b[1;32m     80\u001b[0m                     )\n\u001b[0;32m---> 81\u001b[0;31m                     \u001b[0mself\u001b[0m\u001b[0;34m.\u001b[0m\u001b[0m_cached_engagements\u001b[0m\u001b[0;34m[\u001b[0m\u001b[0mkey\u001b[0m\u001b[0;34m]\u001b[0m \u001b[0;34m=\u001b[0m \u001b[0mcreate_engagement\u001b[0m\u001b[0;34m(\u001b[0m\u001b[0mclient\u001b[0m\u001b[0;34m=\u001b[0m\u001b[0mclient\u001b[0m\u001b[0;34m,\u001b[0m \u001b[0mjson_body\u001b[0m\u001b[0;34m=\u001b[0m\u001b[0mrequest\u001b[0m\u001b[0;34m)\u001b[0m\u001b[0;34m.\u001b[0m\u001b[0mparsed\u001b[0m\u001b[0;34m\u001b[0m\u001b[0;34m\u001b[0m\u001b[0m\n\u001b[0m\u001b[1;32m     82\u001b[0m             \u001b[0;32mreturn\u001b[0m \u001b[0mself\u001b[0m\u001b[0;34m.\u001b[0m\u001b[0m_cached_engagements\u001b[0m\u001b[0;34m[\u001b[0m\u001b[0mkey\u001b[0m\u001b[0;34m]\u001b[0m\u001b[0;34m\u001b[0m\u001b[0;34m\u001b[0m\u001b[0m\n\u001b[1;32m     83\u001b[0m \u001b[0;34m\u001b[0m\u001b[0m\n",
      "\u001b[0;32m/opt/conda/lib/python3.9/site-packages/qcs_api_client/types.py\u001b[0m in \u001b[0;36mparsed\u001b[0;34m(self)\u001b[0m\n\u001b[1;32m     65\u001b[0m         \"\"\"\n\u001b[1;32m     66\u001b[0m         \u001b[0;32mif\u001b[0m \u001b[0mself\u001b[0m\u001b[0;34m.\u001b[0m\u001b[0m_parsed\u001b[0m \u001b[0;32mis\u001b[0m \u001b[0;32mNone\u001b[0m\u001b[0;34m:\u001b[0m\u001b[0;34m\u001b[0m\u001b[0;34m\u001b[0m\u001b[0m\n\u001b[0;32m---> 67\u001b[0;31m             \u001b[0mself\u001b[0m\u001b[0;34m.\u001b[0m\u001b[0m_parsed\u001b[0m \u001b[0;34m=\u001b[0m \u001b[0mself\u001b[0m\u001b[0;34m.\u001b[0m\u001b[0m_parse_function\u001b[0m\u001b[0;34m(\u001b[0m\u001b[0mresponse\u001b[0m\u001b[0;34m=\u001b[0m\u001b[0mself\u001b[0m\u001b[0;34m)\u001b[0m\u001b[0;34m\u001b[0m\u001b[0;34m\u001b[0m\u001b[0m\n\u001b[0m\u001b[1;32m     68\u001b[0m \u001b[0;34m\u001b[0m\u001b[0m\n\u001b[1;32m     69\u001b[0m         \u001b[0;32mreturn\u001b[0m \u001b[0mself\u001b[0m\u001b[0;34m.\u001b[0m\u001b[0m_parsed\u001b[0m\u001b[0;34m\u001b[0m\u001b[0;34m\u001b[0m\u001b[0m\n",
      "\u001b[0;32m/opt/conda/lib/python3.9/site-packages/qcs_api_client/api/engagements/create_engagement.py\u001b[0m in \u001b[0;36m_parse_response\u001b[0;34m(response)\u001b[0m\n\u001b[1;32m     24\u001b[0m \u001b[0;34m\u001b[0m\u001b[0m\n\u001b[1;32m     25\u001b[0m \u001b[0;32mdef\u001b[0m \u001b[0m_parse_response\u001b[0m\u001b[0;34m(\u001b[0m\u001b[0;34m*\u001b[0m\u001b[0;34m,\u001b[0m \u001b[0mresponse\u001b[0m\u001b[0;34m:\u001b[0m \u001b[0mhttpx\u001b[0m\u001b[0;34m.\u001b[0m\u001b[0mResponse\u001b[0m\u001b[0;34m)\u001b[0m \u001b[0;34m->\u001b[0m \u001b[0mEngagementWithCredentials\u001b[0m\u001b[0;34m:\u001b[0m\u001b[0;34m\u001b[0m\u001b[0;34m\u001b[0m\u001b[0m\n\u001b[0;32m---> 26\u001b[0;31m     \u001b[0mraise_for_status\u001b[0m\u001b[0;34m(\u001b[0m\u001b[0mresponse\u001b[0m\u001b[0;34m)\u001b[0m\u001b[0;34m\u001b[0m\u001b[0;34m\u001b[0m\u001b[0m\n\u001b[0m\u001b[1;32m     27\u001b[0m     \u001b[0;32mif\u001b[0m \u001b[0mresponse\u001b[0m\u001b[0;34m.\u001b[0m\u001b[0mstatus_code\u001b[0m \u001b[0;34m==\u001b[0m \u001b[0;36m200\u001b[0m\u001b[0;34m:\u001b[0m\u001b[0;34m\u001b[0m\u001b[0;34m\u001b[0m\u001b[0m\n\u001b[1;32m     28\u001b[0m         \u001b[0mresponse_200\u001b[0m \u001b[0;34m=\u001b[0m \u001b[0mEngagementWithCredentials\u001b[0m\u001b[0;34m.\u001b[0m\u001b[0mfrom_dict\u001b[0m\u001b[0;34m(\u001b[0m\u001b[0mresponse\u001b[0m\u001b[0;34m.\u001b[0m\u001b[0mjson\u001b[0m\u001b[0;34m(\u001b[0m\u001b[0;34m)\u001b[0m\u001b[0;34m)\u001b[0m\u001b[0;34m\u001b[0m\u001b[0;34m\u001b[0m\u001b[0m\n",
      "\u001b[0;32m/opt/conda/lib/python3.9/site-packages/qcs_api_client/util/errors.py\u001b[0m in \u001b[0;36mraise_for_status\u001b[0;34m(res)\u001b[0m\n\u001b[1;32m     31\u001b[0m         \u001b[0;32mpass\u001b[0m\u001b[0;34m\u001b[0m\u001b[0;34m\u001b[0m\u001b[0m\n\u001b[1;32m     32\u001b[0m \u001b[0;34m\u001b[0m\u001b[0m\n\u001b[0;32m---> 33\u001b[0;31m     \u001b[0;32mraise\u001b[0m \u001b[0mQCSHTTPStatusError\u001b[0m\u001b[0;34m(\u001b[0m\u001b[0mmessage\u001b[0m\u001b[0;34m,\u001b[0m \u001b[0merror\u001b[0m\u001b[0;34m=\u001b[0m\u001b[0merror\u001b[0m\u001b[0;34m,\u001b[0m \u001b[0mresponse\u001b[0m\u001b[0;34m=\u001b[0m\u001b[0mres\u001b[0m\u001b[0;34m)\u001b[0m\u001b[0;34m\u001b[0m\u001b[0;34m\u001b[0m\u001b[0m\n\u001b[0m",
      "\u001b[0;31mQCSHTTPStatusError\u001b[0m: QCS API call POST https://api.qcs.rigetti.com/v1/engagements failed with status 400: {\"code\":\"bad_request\",\"message\":\"A reservation is required to engage, but you do not have a current reservation\",\"requestId\":\"b16720cc-36fc-4475-9e02-811c36d0105f\"}"
     ]
    }
   ],
   "source": [
    "result = job.result()"
   ]
  },
  {
   "cell_type": "markdown",
   "id": "84ab9627-e663-45e3-834b-221e1d2ab1de",
   "metadata": {},
   "source": [
    "# GHZ"
   ]
  },
  {
   "cell_type": "code",
   "execution_count": null,
   "id": "3bccf873-7f29-456d-990d-d0e52de717b8",
   "metadata": {},
   "outputs": [],
   "source": [
    "qc = QuantumCircuit(num_qubits)\n",
    "qc.h(0)\n",
    "qc.cx(0,1)\n",
    "qc.cx(0,7)\n",
    "qc.cx(1,2)\n",
    "qc.cx(7,6)\n",
    "qc.cx(2,3)\n",
    "qc.cx(6,5)\n",
    "qc.cx(3,4)\n",
    "qc.draw()"
   ]
  },
  {
   "cell_type": "code",
   "execution_count": null,
   "id": "28592779-1ee3-4dec-ac49-e0893e6457e7",
   "metadata": {},
   "outputs": [],
   "source": [
    "qc.measure_all()\n",
    "job_ghz = execute(qc, backend, shots=1 << 13, initial_layout=range(num_qubits), optimization_level=3)\n",
    "result_ghz = job_ghz.result()"
   ]
  },
  {
   "cell_type": "code",
   "execution_count": null,
   "id": "a7b13398-76db-4ec5-80ab-0c2ff817c568",
   "metadata": {},
   "outputs": [],
   "source": [
    "import pickle\n",
    "with open(\"20221114_result_ghz_aspen11.pkl\", \"wb\") as f:\n",
    "    pickle.dump(result_ghz, f)"
   ]
  },
  {
   "cell_type": "markdown",
   "id": "9e656e7b-19fb-4708-853a-d062258acfe6",
   "metadata": {},
   "source": [
    "# GHZ2"
   ]
  },
  {
   "cell_type": "code",
   "execution_count": null,
   "id": "1ca6940c-2fde-4f92-b09b-7fd8dd41f343",
   "metadata": {},
   "outputs": [],
   "source": [
    "qc = QuantumCircuit(num_qubits)\n",
    "qc.h(0)\n",
    "qc.cx(0,1)\n",
    "qc.draw()"
   ]
  },
  {
   "cell_type": "code",
   "execution_count": null,
   "id": "78a754ce-8285-4490-ab1c-34a8a0d35357",
   "metadata": {},
   "outputs": [],
   "source": [
    "qc.measure_all()\n",
    "job_ghz2 = execute(qc, backend, shots=1 << 13, initial_layout=range(num_qubits), optimization_level=3)\n",
    "result_ghz2 = job_ghz2.result()"
   ]
  },
  {
   "cell_type": "code",
   "execution_count": null,
   "id": "480898eb-c9dd-4a5d-b32c-c6406931d773",
   "metadata": {},
   "outputs": [],
   "source": [
    "import pickle\n",
    "with open(\"20221114_result_ghz2_aspen11.pkl\", \"wb\") as f:\n",
    "    pickle.dump(result_ghz2, f)"
   ]
  },
  {
   "cell_type": "markdown",
   "id": "85b834f9-55cb-4471-9b30-ca7b9db58706",
   "metadata": {},
   "source": [
    "# "
   ]
  },
  {
   "cell_type": "code",
   "execution_count": 15,
   "id": "b9dec41b-47de-4347-becf-4f0fb2bde4d4",
   "metadata": {},
   "outputs": [],
   "source": [
    "import pickle\n",
    "with open(\"20221114_two_qubits_results_aspen11.pkl\", \"wb\") as f:\n",
    "    pickle.dump(results, f)"
   ]
  },
  {
   "cell_type": "code",
   "execution_count": 14,
   "id": "67d303ba-9917-40cd-96ac-6c81468b628e",
   "metadata": {},
   "outputs": [
    {
     "data": {
      "text/plain": [
       "[{'00': 7721, '10': 245, '01': 213, '11': 13},\n",
       " {'01': 7153, '11': 165, '00': 841, '10': 33},\n",
       " {'10': 7832, '00': 111, '11': 245, '01': 4},\n",
       " {'10': 783, '11': 7279, '01': 116, '00': 14}]"
      ]
     },
     "execution_count": 14,
     "metadata": {},
     "output_type": "execute_result"
    }
   ],
   "source": [
    "results"
   ]
  },
  {
   "cell_type": "code",
   "execution_count": 11,
   "id": "dc8046b0-c07a-4125-8b42-e1b6ce2a33a4",
   "metadata": {},
   "outputs": [],
   "source": [
    "# Execute the circuit on the backend\n",
    "results = []\n",
    "for job in jobs:\n",
    "    results.append(job.result())\n",
    "    with open(\"results_two_qubits.pkl\", \"wb\") as f:\n",
    "        pickle.dump(results ,f)"
   ]
  },
  {
   "cell_type": "code",
   "execution_count": 13,
   "id": "3acf60ca-cb56-4263-b0b5-7a064ce2e312",
   "metadata": {},
   "outputs": [],
   "source": [
    "meas_fitters = []\n",
    "for result in results:\n",
    "    meas_fitter = CompleteMeasFitter(result, state_labels)\n",
    "    meas_fitters.append(meas_fitter)\n",
    "with open(\"meas_fitters_two_qubits.pkl\", \"wb\") as f:\n",
    "    pickle.dump(meas_fitters ,f)"
   ]
  },
  {
   "cell_type": "code",
   "execution_count": 14,
   "id": "f65a50e0-dd8a-42aa-a7ed-b25e4028601c",
   "metadata": {},
   "outputs": [],
   "source": [
    "with open(\"readout_error_aspen-11_two_qubits.pkl\", \"wb\") as f:\n",
    "    pickle.dump({\"results\": results, \"meas_fitters\": meas_fitters, \"time\": \"2022-08-22-1430-BST\"}, f)"
   ]
  },
  {
   "cell_type": "code",
   "execution_count": 17,
   "id": "8323370d-89dc-4e85-aef4-d4531bd986c2",
   "metadata": {},
   "outputs": [],
   "source": [
    "cal_matrices = []\n",
    "for meas_fitter in meas_fitters:\n",
    "    cal_matrices.append(meas_fitter.cal_matrix)\n",
    "with open(\"cal_matrices_two_qubits.pkl\", \"wb\") as f:\n",
    "    pickle.dump(cal_matrices ,f)"
   ]
  },
  {
   "cell_type": "code",
   "execution_count": 21,
   "id": "5bb6a070-a6f9-42bc-804b-6ea9da8c9621",
   "metadata": {},
   "outputs": [
    {
     "data": {
      "text/latex": [
       "$$\n",
       "\n",
       "\\begin{bmatrix}\n",
       "0.8429 & 0.11218 & 0.02771 & 0.00293  \\\\\n",
       " 0.0271 & 0.81812 & 0.00146 & 0.02258  \\\\\n",
       " 0.12537 & 0.0116 & 0.93579 & 0.11377  \\\\\n",
       " 0.00464 & 0.05811 & 0.03503 & 0.86072  \\\\\n",
       " \\end{bmatrix}\n",
       "$$"
      ],
      "text/plain": [
       "<IPython.core.display.Latex object>"
      ]
     },
     "execution_count": 21,
     "metadata": {},
     "output_type": "execute_result"
    }
   ],
   "source": [
    "array_to_latex(cal_matrices[i])"
   ]
  },
  {
   "cell_type": "code",
   "execution_count": 27,
   "id": "95c1e09a-7ad5-40ec-9c83-cbe1310c91a1",
   "metadata": {},
   "outputs": [
    {
     "data": {
      "text/plain": [
       "array([<AxesSubplot:>, <AxesSubplot:>, <AxesSubplot:>, <AxesSubplot:>,\n",
       "       <AxesSubplot:>], dtype=object)"
      ]
     },
     "execution_count": 27,
     "metadata": {},
     "output_type": "execute_result"
    }
   ],
   "source": [
    "axs[0]"
   ]
  },
  {
   "cell_type": "code",
   "execution_count": 30,
   "id": "c0e842b3-b467-462a-a41b-53434086a928",
   "metadata": {},
   "outputs": [
    {
     "data": {
      "image/png": "[encoded data removed]",
      "text/plain": [
       "<Figure size 1200x800 with 15 Axes>"
      ]
     },
     "metadata": {
      "needs_background": "light"
     },
     "output_type": "display_data"
    }
   ],
   "source": [
    "i = 0\n",
    "fig, axs2d = plt.subplots(3,5, dpi = 200)\n",
    "fig.tight_layout()\n",
    "for axs in axs2d:\n",
    "    for ax in axs:\n",
    "        im = ax.imshow(cal_matrices[i])\n",
    "        # cbar = ax.figure.colorbar(im, ax=ax)\n",
    "        # cbar.ax.set_ylabel(\"probability\", rotation=-90, va=\"bottom\")\n",
    "        # ax.xlabel(\"input states\")\n",
    "        # ax.ylabel(\"output states\")\n",
    "        # ax.title(\"readout calibration matrix of qubit (6 , \"+str(path[i])+\") on Rigetti Aspen-11\")\n",
    "        # ax.show()"
   ]
  },
  {
   "cell_type": "code",
   "execution_count": 23,
   "id": "f8ae2a57-70cd-4c61-a7f3-734a686d8fa4",
   "metadata": {},
   "outputs": [
    {
     "name": "stdout",
     "output_type": "stream",
     "text": [
      "qubit 6 7 : [ 0.0029296875 0.00146484375 0.0115966796875 0.004638671875 ]\n",
      "qubit 6 0 : [ 0.0103759765625 0.001220703125 0.0023193359375 0.000244140625 ]\n",
      "qubit 6 1 : [ 0.008056640625 0.00048828125 0.00732421875 0.0006103515625 ]\n",
      "qubit 6 16 : [ 0.010498046875 0.0010986328125 0.0013427734375 0.0 ]\n",
      "qubit 6 17 : [ 0.013916015625 0.00048828125 0.01416015625 0.001953125 ]\n",
      "qubit 6 10 : [ 0.003173828125 0.0003662109375 0.00341796875 0.000732421875 ]\n",
      "qubit 6 11 : [ 0.008056640625 0.0009765625 0.00390625 0.0003662109375 ]\n",
      "qubit 6 26 : [ 0.001220703125 0.0003662109375 0.0045166015625 0.0003662109375 ]\n",
      "qubit 6 27 : [ 0.0062255859375 0.000732421875 0.005126953125 0.0006103515625 ]\n",
      "qubit 6 20 : [ 0.00244140625 0.000244140625 0.0052490234375 0.000244140625 ]\n",
      "qubit 6 21 : [ 0.0035400390625 0.000732421875 0.011962890625 0.0018310546875 ]\n",
      "qubit 6 36 : [ 0.0013427734375 0.0006103515625 0.001220703125 0.0 ]\n",
      "qubit 6 37 : [ 0.00439453125 0.0001220703125 0.0380859375 0.005615234375 ]\n",
      "qubit 6 30 : [ 0.00439453125 0.000244140625 0.002197265625 0.0001220703125 ]\n",
      "qubit 6 31 : [ 0.008544921875 0.0010986328125 0.00830078125 0.0013427734375 ]\n"
     ]
    }
   ],
   "source": [
    "for qubit, cal_matrix in zip(path, cal_matrices):\n",
    "    print(\"qubit\", 6, qubit, \": [\", cal_matrix[0,3], cal_matrix[1,2], cal_matrix[2,1], cal_matrix[3,0], \"]\")"
   ]
  },
  {
   "cell_type": "markdown",
   "id": "fa9cbf42-0f95-453e-b626-bce7c46e98be",
   "metadata": {
    "tags": []
   },
   "source": [
    "# Check the correctness"
   ]
  },
  {
   "cell_type": "code",
   "execution_count": 24,
   "id": "301952e4-fda6-48ba-a44d-97041f44f26b",
   "metadata": {},
   "outputs": [
    {
     "name": "stderr",
     "output_type": "stream",
     "text": [
      "/opt/conda/lib/python3.9/site-packages/qiskit_rigetti/_qcs_job.py:117: UserWarning: barriers are currently omitted during execution on a RigettiQCSBackend\n",
      "  warnings.warn(\"barriers are currently omitted during execution on a RigettiQCSBackend\")\n",
      "/opt/conda/lib/python3.9/site-packages/rpcq/_client.py:202: UserWarning: SIMPLE-WARNING: Unhandled pragma in qubit relabeling: #<PRAGMA OPENQASM 2.0>\n",
      "  warn(f\"{warning.kind}: {warning.body}\")\n"
     ]
    }
   ],
   "source": [
    "job = execute(meas_calibs, backend, shots=1 << 13, initial_layout=[6,100], optimization_level=3)"
   ]
  },
  {
   "cell_type": "markdown",
   "id": "d61f5e28-ba2e-4232-b51c-c686860bbde5",
   "metadata": {},
   "source": [
    "# Tensor Product Noise Model (not used)"
   ]
  },
  {
   "cell_type": "code",
   "execution_count": null,
   "id": "5b562895-2fd8-4f95-a38c-e0b8db018c97",
   "metadata": {},
   "outputs": [],
   "source": [
    "result = records[\"result\"]\n",
    "meas_fitter = records[\"meas_fitter\"]\n",
    "cal_matrix = meas_fitter.cal_matrix"
   ]
  },
  {
   "cell_type": "code",
   "execution_count": 3,
   "id": "583d11bb-2960-436c-b5bb-89067f67cb48",
   "metadata": {},
   "outputs": [],
   "source": [
    "from qiskit.ignis.mitigation.measurement import TensoredMeasFitter"
   ]
  },
  {
   "cell_type": "code",
   "execution_count": 5,
   "id": "fd01d598-777e-4faf-8695-9ac471965211",
   "metadata": {},
   "outputs": [],
   "source": [
    "from qiskit.result import Result\n",
    "\n",
    "def separate_results(one_job_results):\n",
    "    return [Result(backend_name=one_job_results.backend_name,\n",
    "                   backend_version=one_job_results.backend_version,\n",
    "                   qobj_id=one_job_results.qobj_id,\n",
    "                   job_id=one_job_results.job_id,\n",
    "                   success=True,\n",
    "                   results=[results]) for results in one_job_results.results]\n",
    "\n",
    "\n",
    "def merge_results(results_list):\n",
    "    results = []\n",
    "    for res in results_list:\n",
    "        results += res.results\n",
    "    return Result(backend_name=results_list[0].backend_name,\n",
    "                  backend_version=results_list[0].backend_version,\n",
    "                  qobj_id=results_list[0].qobj_id,\n",
    "                  job_id=results_list[0].job_id,\n",
    "                  success=True,\n",
    "                  results=results)"
   ]
  },
  {
   "cell_type": "code",
   "execution_count": 6,
   "id": "d446e450-fe39-4837-8a59-beee44dce94e",
   "metadata": {},
   "outputs": [],
   "source": [
    "results_list = separate_results(result)"
   ]
  },
  {
   "cell_type": "code",
   "execution_count": 7,
   "id": "e1799a7c-4512-4854-b988-8ed6e6733e66",
   "metadata": {},
   "outputs": [
    {
     "data": {
      "text/plain": [
       "256"
      ]
     },
     "execution_count": 7,
     "metadata": {},
     "output_type": "execute_result"
    }
   ],
   "source": [
    "len(results_list)"
   ]
  },
  {
   "cell_type": "code",
   "execution_count": 8,
   "id": "7a341191-3498-4248-9168-a73962354793",
   "metadata": {},
   "outputs": [],
   "source": [
    "tensored_result = merge_results([results_list[0], results_list[-1]])"
   ]
  },
  {
   "cell_type": "code",
   "execution_count": 21,
   "id": "a71a0f40-108a-424b-99de-561d6f58789c",
   "metadata": {},
   "outputs": [],
   "source": [
    "tensored_fitter = TensoredMeasFitter(tensored_result, mit_pattern=[[i] for i in range(num_qubits)])"
   ]
  },
  {
   "cell_type": "code",
   "execution_count": 22,
   "id": "a1012d59-ba65-409a-b5c1-9a035d5eb277",
   "metadata": {},
   "outputs": [
    {
     "data": {
      "text/plain": [
       "[array([[0.98364258, 0.10070801],\n",
       "        [0.01635742, 0.89929199]]),\n",
       " array([[0.94384766, 0.07263184],\n",
       "        [0.05615234, 0.92736816]]),\n",
       " array([[0.94445801, 0.12524414],\n",
       "        [0.05554199, 0.87475586]]),\n",
       " array([[0.81604004, 0.13793945],\n",
       "        [0.18395996, 0.86206055]]),\n",
       " array([[0.93054199, 0.09289551],\n",
       "        [0.06945801, 0.90710449]]),\n",
       " array([[0.90795898, 0.0390625 ],\n",
       "        [0.09204102, 0.9609375 ]]),\n",
       " array([[0.98486328, 0.05224609],\n",
       "        [0.01513672, 0.94775391]]),\n",
       " array([[0.9329834 , 0.03234863],\n",
       "        [0.0670166 , 0.96765137]])]"
      ]
     },
     "execution_count": 22,
     "metadata": {},
     "output_type": "execute_result"
    }
   ],
   "source": [
    "tensored_fitter.cal_matrices"
   ]
  },
  {
   "cell_type": "markdown",
   "id": "51dac14b-ddae-4c31-ab02-c07d6b0d7c9b",
   "metadata": {},
   "source": [
    "- "
   ]
  },
  {
   "cell_type": "markdown",
   "id": "5cf19dc5-6acb-4ad3-987f-0e4e0aa8fc67",
   "metadata": {},
   "source": [
    "# TODO\n",
    "\n",
    "- check the difference of the full calibration matrix and tensor product of the single qubit calibration matrix\n",
    "- check the difference of the magnitude of the correlations between different order of correlation: 2-qubit / 3-qubit"
   ]
  },
  {
   "cell_type": "markdown",
   "id": "c35b5114-5ba5-4c8b-9fd4-02670ebab363",
   "metadata": {},
   "source": [
    "$\\rho_{ABC}$→$\\rho_A, \\rho_B, \\rho_C$\n",
    "\n",
    "$\\rho_A, \\rho_B, \\rho_C$→$\\rho_{ABC}$"
   ]
  },
  {
   "cell_type": "markdown",
   "id": "d96cf4a2-3fa3-4841-afa2-c7738c66f572",
   "metadata": {},
   "source": [
    "$\\rho_{AB}$, $\\rho_{BC}$, $\\rho_{CA}$, $\\rho_A, \\rho_B, \\rho_C$"
   ]
  },
  {
   "cell_type": "markdown",
   "id": "5c7ccd5e-22af-4bda-ab0d-bec265f74b49",
   "metadata": {},
   "source": []
  },
  {
   "cell_type": "code",
   "execution_count": null,
   "id": "555da824-2025-4f8b-862e-8f23063b5198",
   "metadata": {},
   "outputs": [],
   "source": []
  }
 ],
 "metadata": {
  "kernelspec": {
   "display_name": "Python 3 (ipykernel)",
   "language": "python",
   "name": "python3"
  },
  "language_info": {
   "codemirror_mode": {
    "name": "ipython",
    "version": 3
   },
   "file_extension": ".py",
   "mimetype": "text/x-python",
   "name": "python",
   "nbconvert_exporter": "python",
   "pygments_lexer": "ipython3",
   "version": "3.9.7"
  }
 },
 "nbformat": 4,
 "nbformat_minor": 5
}
