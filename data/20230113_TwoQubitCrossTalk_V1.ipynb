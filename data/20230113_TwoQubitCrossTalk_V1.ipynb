{
 "cells": [
  {
   "cell_type": "code",
   "execution_count": 1,
   "id": "c5ce221e-c95e-4261-a852-a1892c0a06cb",
   "metadata": {},
   "outputs": [],
   "source": [
    "import pickle\n",
    "import matplotlib.pyplot as plt\n",
    "import numpy as np"
   ]
  },
  {
   "cell_type": "code",
   "execution_count": 2,
   "id": "7e5e5e93",
   "metadata": {},
   "outputs": [],
   "source": [
    "from qiskit import QuantumCircuit, QuantumRegister, ClassicalRegister\n",
    "from qiskit import execute, Aer\n",
    "from qiskit.tools import job_monitor\n",
    "from qiskit.visualization import array_to_latex"
   ]
  },
  {
   "cell_type": "code",
   "execution_count": 3,
   "id": "2fda0f50",
   "metadata": {},
   "outputs": [],
   "source": [
    "from qiskit_rigetti import RigettiQCSBackend, RigettiQCSJob, RigettiQCSProvider\n",
    "from qiskit_rigetti import QuilCircuit"
   ]
  },
  {
   "cell_type": "code",
   "execution_count": 4,
   "id": "431f8827",
   "metadata": {},
   "outputs": [
    {
     "data": {
      "text/plain": [
       "[<RigettiQCSBackend('Aspen-12')>,\n",
       " <RigettiQCSBackend('Aspen-M-2')>,\n",
       " <RigettiQCSBackend('Aspen-M-3')>]"
      ]
     },
     "execution_count": 4,
     "metadata": {},
     "output_type": "execute_result"
    }
   ],
   "source": [
    "# Get provider and backend\n",
    "provider = RigettiQCSProvider()\n",
    "provider.backends()"
   ]
  },
  {
   "cell_type": "code",
   "execution_count": 5,
   "id": "112a1770-4511-4380-8c35-47bdc06738cf",
   "metadata": {},
   "outputs": [
    {
     "data": {
      "text/plain": [
       "<RigettiQCSBackend('Aspen-M-3')>"
      ]
     },
     "execution_count": 5,
     "metadata": {},
     "output_type": "execute_result"
    }
   ],
   "source": [
    "backend = provider.get_backend(\"Aspen-M-3\")\n",
    "backend"
   ]
  },
  {
   "cell_type": "code",
   "execution_count": 6,
   "id": "52dd38e2",
   "metadata": {},
   "outputs": [],
   "source": [
    "from qiskit.ignis.mitigation.measurement import complete_meas_cal, CompleteMeasFitter"
   ]
  },
  {
   "cell_type": "code",
   "execution_count": 7,
   "id": "fa2f7166",
   "metadata": {},
   "outputs": [
    {
     "data": {
      "text/plain": [
       "4"
      ]
     },
     "execution_count": 7,
     "metadata": {},
     "output_type": "execute_result"
    }
   ],
   "source": [
    "num_qubits = 2\n",
    "qr = QuantumRegister(num_qubits)\n",
    "meas_calibs, state_labels = complete_meas_cal(qr=qr)\n",
    "len(meas_calibs)"
   ]
  },
  {
   "cell_type": "code",
   "execution_count": 8,
   "id": "136fce26-4796-4f9d-9e18-8ad38cdbb0e8",
   "metadata": {},
   "outputs": [
    {
     "data": {
      "text/html": [
       "<pre style=\"word-wrap: normal;white-space: pre;background: #fff0;line-height: 1.1;font-family: &quot;Courier New&quot;,Courier,monospace\">       ░ ┌─┐   \n",
       "q0_0: ─░─┤M├───\n",
       "       ░ └╥┘┌─┐\n",
       "q0_1: ─░──╫─┤M├\n",
       "       ░  ║ └╥┘\n",
       "c0: 2/════╩══╩═\n",
       "          0  1 </pre>"
      ],
      "text/plain": [
       "       ░ ┌─┐   \n",
       "q0_0: ─░─┤M├───\n",
       "       ░ └╥┘┌─┐\n",
       "q0_1: ─░──╫─┤M├\n",
       "       ░  ║ └╥┘\n",
       "c0: 2/════╩══╩═\n",
       "          0  1 "
      ]
     },
     "execution_count": 8,
     "metadata": {},
     "output_type": "execute_result"
    }
   ],
   "source": [
    "meas_calibs[0].draw()"
   ]
  },
  {
   "cell_type": "code",
   "execution_count": 9,
   "id": "0f86d380-2201-4f8f-85d7-bc73174f9ff4",
   "metadata": {},
   "outputs": [],
   "source": [
    "path = [7,0,1,16,17,10,11,26,27,20,21,36,37,30,31,46,47,40]"
   ]
  },
  {
   "cell_type": "code",
   "execution_count": 10,
   "id": "49b841b5-3e70-4db8-b2d7-02bea0973f9c",
   "metadata": {},
   "outputs": [
    {
     "name": "stdout",
     "output_type": "stream",
     "text": [
      "started 6 and 7\n"
     ]
    },
    {
     "name": "stderr",
     "output_type": "stream",
     "text": [
      "/opt/conda/lib/python3.9/site-packages/qiskit_rigetti/_qcs_job.py:117: UserWarning: barriers are currently omitted during execution on a RigettiQCSBackend\n",
      "  warnings.warn(\"barriers are currently omitted during execution on a RigettiQCSBackend\")\n"
     ]
    },
    {
     "name": "stdout",
     "output_type": "stream",
     "text": [
      "job_id: 099f12ea-2c10-4771-b061-1791fdfac4d8\n",
      "finished 6 and 7\n",
      "\n",
      "started 6 and 0\n",
      "job_id: e79fe2ff-7f66-40ad-b2f1-e898f29aec90\n",
      "finished 6 and 0\n",
      "\n",
      "started 6 and 1\n",
      "job_id: ed32b1e0-f5e0-4242-be3b-0b2b72a41fdf\n",
      "finished 6 and 1\n",
      "\n",
      "started 6 and 16\n",
      "job_id: e96a3f4d-df65-4d10-b48a-440c0da0b918\n",
      "finished 6 and 16\n",
      "\n",
      "started 6 and 17\n",
      "job_id: a0680be2-83ab-437a-ac8c-aaab9b86e351\n",
      "finished 6 and 17\n",
      "\n",
      "started 6 and 10\n",
      "job_id: bb5167f1-5508-4080-841a-384f64bd1f56\n",
      "finished 6 and 10\n",
      "\n",
      "started 6 and 11\n",
      "job_id: ffcace61-5e4e-44bc-8580-ba5ea7cc82d6\n",
      "finished 6 and 11\n",
      "\n",
      "started 6 and 26\n",
      "job_id: 45e3db8c-f03e-4c99-a4ba-982f89fe1ed0\n",
      "finished 6 and 26\n",
      "\n",
      "started 6 and 27\n",
      "job_id: 4f690de9-70c2-4832-a960-bd3dd18bf44a\n",
      "finished 6 and 27\n",
      "\n",
      "started 6 and 20\n",
      "job_id: 1e1b6ac7-ed20-4710-ba6b-f9e4a6fcf34f\n",
      "finished 6 and 20\n",
      "\n",
      "started 6 and 21\n",
      "job_id: ee9df152-429e-46c6-a3e2-4f22df478460\n",
      "finished 6 and 21\n",
      "\n",
      "started 6 and 36\n",
      "job_id: 7750d0a0-874d-481e-9f12-3e85fb351272\n",
      "finished 6 and 36\n",
      "\n",
      "started 6 and 37\n",
      "job_id: 9251c29a-6fba-40cb-9c28-351e895ef23e\n",
      "finished 6 and 37\n",
      "\n",
      "started 6 and 30\n",
      "job_id: d61f3e21-5009-4eb5-844a-a42b6f11d336\n",
      "finished 6 and 30\n",
      "\n",
      "started 6 and 31\n",
      "job_id: 7214ffbb-59c7-4ddb-9302-42873709c112\n",
      "finished 6 and 31\n",
      "\n",
      "started 6 and 46\n",
      "job_id: ea92ad43-c4eb-449f-b711-85ff9033ccbe\n",
      "finished 6 and 46\n",
      "\n",
      "started 6 and 47\n",
      "job_id: c89768b3-f729-48f9-8000-609cdcbc807a\n",
      "finished 6 and 47\n",
      "\n",
      "started 6 and 40\n",
      "job_id: 6e24825b-36f1-46b0-8eba-36a623137d3b\n",
      "finished 6 and 40\n",
      "\n"
     ]
    }
   ],
   "source": [
    "# Execute the circuit on the backend\n",
    "jobs = []\n",
    "job_ids = []\n",
    "results = []\n",
    "\n",
    "for i in path:\n",
    "    print(\"started\", 6, \"and\", i)\n",
    "    job = execute(meas_calibs, backend, shots=1 << 13, initial_layout=[6,i], optimization_level=3)\n",
    "    jobs.append(job)\n",
    "    print(\"job_id:\", job.job_id())\n",
    "    job_ids.append(job.job_id())\n",
    "    with open(\"20211013_TwoQubitCrossTalk_AspenM3_Jobs.pkl\", \"wb\") as f:\n",
    "        pickle.dump(job_ids, f)\n",
    "    print(\"finished\", 6, \"and\", i)\n",
    "    print()"
   ]
  },
  {
   "cell_type": "code",
   "execution_count": 11,
   "id": "d8cb1201-92c9-4588-b382-b6ede2991f2b",
   "metadata": {},
   "outputs": [
    {
     "name": "stdout",
     "output_type": "stream",
     "text": [
      "Job Status: job has successfully run\n",
      "Job Status: job has successfully run\n",
      "Job Status: job has successfully run\n",
      "Job Status: job has successfully run\n",
      "Job Status: job has successfully run\n",
      "Job Status: job has successfully run\n",
      "Job Status: job has successfully run\n",
      "Job Status: job has successfully run\n",
      "Job Status: job has successfully run\n",
      "Job Status: job has successfully run\n",
      "Job Status: job has successfully run\n",
      "Job Status: job has successfully run\n",
      "Job Status: job has successfully run\n",
      "Job Status: job has successfully run\n",
      "Job Status: job has successfully run\n",
      "Job Status: job has successfully run\n",
      "Job Status: job has successfully run\n",
      "Job Status: job has successfully run\n"
     ]
    }
   ],
   "source": [
    "for job in jobs:\n",
    "    job_monitor(job)"
   ]
  },
  {
   "cell_type": "code",
   "execution_count": 12,
   "id": "dc8046b0-c07a-4125-8b42-e1b6ce2a33a4",
   "metadata": {},
   "outputs": [],
   "source": [
    "# Execute the circuit on the backend\n",
    "results = []\n",
    "for job in jobs:\n",
    "    results.append(job.result())\n",
    "    with open(\"20211013_TwoQubitCrossTalk_AspenM3_Results.pkl\", \"wb\") as f:\n",
    "        pickle.dump(results ,f)"
   ]
  },
  {
   "cell_type": "code",
   "execution_count": 13,
   "id": "3acf60ca-cb56-4263-b0b5-7a064ce2e312",
   "metadata": {},
   "outputs": [],
   "source": [
    "meas_fitters = []\n",
    "for result in results:\n",
    "    meas_fitter = CompleteMeasFitter(result, state_labels)\n",
    "    meas_fitters.append(meas_fitter)\n",
    "with open(\"20211013_TwoQubitCrossTalk_AspenM3_Meas_Fitters.pkl\", \"wb\") as f:\n",
    "    pickle.dump(meas_fitters ,f)"
   ]
  },
  {
   "cell_type": "code",
   "execution_count": 14,
   "id": "f65a50e0-dd8a-42aa-a7ed-b25e4028601c",
   "metadata": {},
   "outputs": [],
   "source": [
    "with open(\"20211013_TwoQubitCrossTalk_AspenM3_Readout_Error.pkl\", \"wb\") as f:\n",
    "    pickle.dump({\"results\": results, \"meas_fitters\": meas_fitters, \"time\": \"2023-01-13-2100-BST\"}, f)"
   ]
  },
  {
   "cell_type": "code",
   "execution_count": 15,
   "id": "8323370d-89dc-4e85-aef4-d4531bd986c2",
   "metadata": {},
   "outputs": [],
   "source": [
    "cal_matrices = []\n",
    "for meas_fitter in meas_fitters:\n",
    "    cal_matrices.append(meas_fitter.cal_matrix)\n",
    "with open(\"20211013_TwoQubitCrossTalk_AspenM3_CalMatrices.pkl\", \"wb\") as f:\n",
    "    pickle.dump(cal_matrices ,f)"
   ]
  },
  {
   "cell_type": "code",
   "execution_count": 17,
   "id": "5bb6a070-a6f9-42bc-804b-6ea9da8c9621",
   "metadata": {},
   "outputs": [
    {
     "data": {
      "text/latex": [
       "$$\n",
       "\n",
       "\\begin{bmatrix}\n",
       "0.94666 & 0.01758 & 0.06104 & 0.00061  \\\\\n",
       " 0.00256 & 0.93347 & 0.00024 & 0.06372  \\\\\n",
       " 0.05066 & 0.00134 & 0.93469 & 0.01819  \\\\\n",
       " 0.00012 & 0.04761 & 0.00403 & 0.91748  \\\\\n",
       " \\end{bmatrix}\n",
       "$$"
      ],
      "text/plain": [
       "<IPython.core.display.Latex object>"
      ]
     },
     "execution_count": 17,
     "metadata": {},
     "output_type": "execute_result"
    }
   ],
   "source": [
    "array_to_latex(cal_matrices[1])"
   ]
  },
  {
   "cell_type": "code",
   "execution_count": 19,
   "id": "a1e1975a-04d9-43f2-a457-0870345fe9a3",
   "metadata": {},
   "outputs": [],
   "source": [
    "import pickle\n",
    "with open(\"20211013_TwoQubitCrossTalk_AspenM3_Readout_Error.pkl\", \"rb\") as f:\n",
    "    data = pickle.load(f)"
   ]
  },
  {
   "cell_type": "code",
   "execution_count": 20,
   "id": "1221243e-96c3-4a29-a03d-2f05cba383e1",
   "metadata": {},
   "outputs": [
    {
     "data": {
      "text/plain": [
       "dict_keys(['results', 'meas_fitters', 'time'])"
      ]
     },
     "execution_count": 20,
     "metadata": {},
     "output_type": "execute_result"
    }
   ],
   "source": [
    "data.keys()"
   ]
  },
  {
   "cell_type": "code",
   "execution_count": 21,
   "id": "a8077098-0a55-45b4-989c-22cf5c9f1998",
   "metadata": {},
   "outputs": [],
   "source": [
    "meas_fitters = data[\"meas_fitters\"]"
   ]
  },
  {
   "cell_type": "code",
   "execution_count": 26,
   "id": "1e2f2dc7-10c8-4fbc-81f2-c49613d7a72b",
   "metadata": {},
   "outputs": [
    {
     "data": {
      "text/plain": [
       "array([[9.76684570e-01, 1.89208984e-02, 4.18701172e-02, 4.88281250e-04],\n",
       "       [3.17382812e-03, 9.57153320e-01, 1.22070312e-04, 4.24804688e-02],\n",
       "       [1.98974609e-02, 1.09863281e-03, 9.53857422e-01, 1.68457031e-02],\n",
       "       [2.44140625e-04, 2.28271484e-02, 4.15039062e-03, 9.40185547e-01]])"
      ]
     },
     "execution_count": 26,
     "metadata": {},
     "output_type": "execute_result"
    }
   ],
   "source": [
    "meas_fitters[0].cal_matrix"
   ]
  },
  {
   "cell_type": "code",
   "execution_count": 27,
   "id": "b5711a83-ae63-4dcf-86e7-817ef0170b8b",
   "metadata": {},
   "outputs": [
    {
     "name": "stdout",
     "output_type": "stream",
     "text": [
      "[[9.76684570e-01 1.89208984e-02 4.18701172e-02 4.88281250e-04]\n",
      " [3.17382812e-03 9.57153320e-01 1.22070312e-04 4.24804688e-02]\n",
      " [1.98974609e-02 1.09863281e-03 9.53857422e-01 1.68457031e-02]\n",
      " [2.44140625e-04 2.28271484e-02 4.15039062e-03 9.40185547e-01]]\n",
      "[[9.46655273e-01 1.75781250e-02 6.10351562e-02 6.10351562e-04]\n",
      " [2.56347656e-03 9.33471680e-01 2.44140625e-04 6.37207031e-02]\n",
      " [5.06591797e-02 1.34277344e-03 9.34692383e-01 1.81884766e-02]\n",
      " [1.22070312e-04 4.76074219e-02 4.02832031e-03 9.17480469e-01]]\n",
      "[[9.78393555e-01 2.19726562e-02 5.52978516e-02 1.34277344e-03]\n",
      " [5.61523438e-03 9.61303711e-01 3.66210938e-04 5.87158203e-02]\n",
      " [1.59912109e-02 6.10351562e-04 9.40063477e-01 2.02636719e-02]\n",
      " [0.00000000e+00 1.61132812e-02 4.27246094e-03 9.19677734e-01]]\n",
      "[[9.57031250e-01 1.97753906e-02 1.53808594e-02 2.44140625e-04]\n",
      " [3.66210938e-03 9.13085938e-01 1.22070312e-04 1.17187500e-02]\n",
      " [3.93066406e-02 1.70898438e-03 9.79736328e-01 1.97753906e-02]\n",
      " [0.00000000e+00 6.54296875e-02 4.76074219e-03 9.68261719e-01]]\n",
      "[[9.90600586e-01 1.96533203e-02 2.23388672e-02 4.88281250e-04]\n",
      " [3.17382812e-03 9.72900391e-01 0.00000000e+00 2.27050781e-02]\n",
      " [6.22558594e-03 0.00000000e+00 9.74731445e-01 2.14843750e-02]\n",
      " [0.00000000e+00 7.44628906e-03 2.92968750e-03 9.55322266e-01]]\n",
      "[[9.60327148e-01 1.37939453e-02 1.81884766e-02 2.44140625e-04]\n",
      " [1.14746094e-02 9.59594727e-01 0.00000000e+00 1.74560547e-02]\n",
      " [2.77099609e-02 2.44140625e-04 9.72412109e-01 1.53808594e-02]\n",
      " [4.88281250e-04 2.63671875e-02 9.39941406e-03 9.66918945e-01]]\n",
      "[[9.07104492e-01 1.35498047e-02 7.94677734e-02 1.22070312e-03]\n",
      " [8.54492188e-03 9.74975586e-01 4.88281250e-04 7.97119141e-02]\n",
      " [8.42285156e-02 1.22070312e-04 9.10766602e-01 1.33056641e-02]\n",
      " [1.22070312e-04 1.13525391e-02 9.27734375e-03 9.05761719e-01]]\n",
      "[[9.16381836e-01 1.26953125e-02 2.30834961e-01 3.05175781e-03]\n",
      " [8.78906250e-03 9.10644531e-01 2.31933594e-03 2.35839844e-01]\n",
      " [7.40966797e-02 9.76562500e-04 7.58911133e-01 8.42285156e-03]\n",
      " [7.32421875e-04 7.56835938e-02 7.93457031e-03 7.52685547e-01]]\n",
      "[[9.44091797e-01 1.11083984e-02 8.53271484e-02 1.34277344e-03]\n",
      " [1.03759766e-02 9.43847656e-01 7.32421875e-04 8.65478516e-02]\n",
      " [4.50439453e-02 7.32421875e-04 9.02587891e-01 1.20849609e-02]\n",
      " [4.88281250e-04 4.43115234e-02 1.13525391e-02 9.00024414e-01]]\n",
      "[[9.71191406e-01 1.23291016e-02 4.82177734e-02 4.88281250e-04]\n",
      " [9.15527344e-03 9.65698242e-01 8.54492188e-04 4.83398438e-02]\n",
      " [1.94091797e-02 4.88281250e-04 9.41650391e-01 1.56250000e-02]\n",
      " [2.44140625e-04 2.14843750e-02 9.27734375e-03 9.35546875e-01]]\n",
      "[[9.33959961e-01 1.03759766e-02 2.07519531e-02 1.22070312e-04]\n",
      " [8.91113281e-03 9.20654297e-01 3.66210938e-04 2.39257812e-02]\n",
      " [5.61523438e-02 1.22070312e-03 9.68505859e-01 1.28173828e-02]\n",
      " [9.76562500e-04 6.77490234e-02 1.03759766e-02 9.63134766e-01]]\n",
      "[[9.84008789e-01 1.14746094e-02 1.06201172e-02 0.00000000e+00]\n",
      " [1.09863281e-02 9.85351562e-01 1.22070312e-04 1.15966797e-02]\n",
      " [5.00488281e-03 0.00000000e+00 9.79614258e-01 1.09863281e-02]\n",
      " [0.00000000e+00 3.17382812e-03 9.64355469e-03 9.77416992e-01]]\n",
      "[[9.72534180e-01 1.51367188e-02 4.51660156e-03 1.22070312e-04]\n",
      " [1.08642578e-02 9.73999023e-01 0.00000000e+00 4.39453125e-03]\n",
      " [1.64794922e-02 3.66210938e-04 9.86206055e-01 1.52587891e-02]\n",
      " [1.22070312e-04 1.04980469e-02 9.27734375e-03 9.80224609e-01]]\n",
      "[[9.54833984e-01 1.19628906e-02 2.35595703e-02 0.00000000e+00]\n",
      " [1.04980469e-02 9.50073242e-01 0.00000000e+00 2.11181641e-02]\n",
      " [3.43017578e-02 7.32421875e-04 9.65332031e-01 1.52587891e-02]\n",
      " [3.66210938e-04 3.72314453e-02 1.11083984e-02 9.63623047e-01]]\n",
      "[[0.69909668 0.00756836 0.0994873  0.00109863]\n",
      " [0.00634766 0.6574707  0.00097656 0.10375977]\n",
      " [0.29187012 0.00488281 0.89147949 0.01062012]\n",
      " [0.00268555 0.33007812 0.00805664 0.88452148]]\n",
      "[[9.48364258e-01 1.25732422e-02 1.31835938e-02 1.22070312e-04]\n",
      " [1.02539062e-02 9.51660156e-01 1.22070312e-04 1.34277344e-02]\n",
      " [4.12597656e-02 4.88281250e-04 9.76684570e-01 1.22070312e-02]\n",
      " [1.22070312e-04 3.52783203e-02 1.00097656e-02 9.74243164e-01]]\n",
      "[[9.75097656e-01 1.24511719e-02 1.89208984e-02 1.22070312e-04]\n",
      " [1.18408203e-02 9.76684570e-01 2.44140625e-04 2.47802734e-02]\n",
      " [1.30615234e-02 4.88281250e-04 9.69970703e-01 1.09863281e-02]\n",
      " [0.00000000e+00 1.03759766e-02 1.08642578e-02 9.64111328e-01]]\n",
      "[[9.85839844e-01 1.29394531e-02 1.57470703e-02 2.44140625e-04]\n",
      " [1.08642578e-02 9.83520508e-01 4.88281250e-04 1.59912109e-02]\n",
      " [3.29589844e-03 0.00000000e+00 9.72412109e-01 1.08642578e-02]\n",
      " [0.00000000e+00 3.54003906e-03 1.13525391e-02 9.72900391e-01]]\n"
     ]
    }
   ],
   "source": [
    "for i in range(len(meas_fitters)):\n",
    "    print(meas_fitters[i].cal_matrix)"
   ]
  },
  {
   "cell_type": "code",
   "execution_count": 28,
   "id": "ca666395-d175-44ae-abe9-7763b84ec19f",
   "metadata": {},
   "outputs": [],
   "source": [
    "for i in range(len(meas_fitters)):\n",
    "    np.savetxt(\"20211013_TwoQubitCrossTalk_AspenM3_Save_CalMatrices.txt\", meas_fitters[i].cal_matrix, delimiter=',')"
   ]
  },
  {
   "cell_type": "code",
   "execution_count": 29,
   "id": "3cc11a44-cc3b-47ac-b591-c9ea2b0cb698",
   "metadata": {},
   "outputs": [],
   "source": [
    "for i in range(len(meas_fitters)):\n",
    "    with open(\"20211013_TwoQubitCrossTalk_AspenM3_Save_CalMatrices.txt\", \"a\") as f:\n",
    "        np.savetxt(f, meas_fitters[i].cal_matrix, delimiter=',')\n",
    "    # f.write(\"\\n\")"
   ]
  },
  {
   "cell_type": "code",
   "execution_count": 30,
   "id": "dd971d55-ec77-4f71-9a66-4a330a6155ea",
   "metadata": {},
   "outputs": [],
   "source": [
    "import pickle\n",
    "import matplotlib.pyplot as plt\n",
    "import numpy as np"
   ]
  },
  {
   "cell_type": "code",
   "execution_count": 31,
   "id": "5a459a80-c20b-461a-87ff-4c08ce37c14a",
   "metadata": {},
   "outputs": [
    {
     "data": {
      "image/png": "[encoded data removed]",
      "text/plain": [
       "<Figure size 432x288 with 5 Axes>"
      ]
     },
     "metadata": {
      "needs_background": "light"
     },
     "output_type": "display_data"
    }
   ],
   "source": [
    "fig, axes = plt.subplots(nrows=2, ncols=2)\n",
    "for ax in axes.flat:\n",
    "    im = ax.imshow(np.random.random((10,10)), vmin=0, vmax=1)\n",
    "\n",
    "fig.subplots_adjust(right=0.8)\n",
    "cbar_ax = fig.add_axes([0.85, 0.15, 0.05, 0.7])\n",
    "fig.colorbar(im, cax=cbar_ax)\n",
    "\n",
    "plt.show()"
   ]
  },
  {
   "cell_type": "code",
   "execution_count": 32,
   "id": "b99b9d06-3c8c-4997-a07e-e6667b3f95e0",
   "metadata": {},
   "outputs": [],
   "source": [
    "def get_cmap(n, name='hsv'):\n",
    "    '''Returns a function that maps each index in 0, 1, ..., n-1 to a distinct \n",
    "    RGB color; the keyword argument name must be a standard mpl colormap name.'''\n",
    "    return plt.cm.get_cmap(name, n)"
   ]
  },
  {
   "cell_type": "code",
   "execution_count": 33,
   "id": "526f0af7-05ab-4d15-ac43-557741b0edd7",
   "metadata": {},
   "outputs": [],
   "source": [
    "import matplotlib as mpl\n",
    "from matplotlib import cm\n",
    "import matplotlib.pyplot as plt\n",
    "import numpy as np\n",
    "\n",
    "C_p = 20 # Classes\n",
    "\n",
    "colours = get_cmap(C_p, name='tab20c')#mpl.colors.ListedColormap(colours_rgb)\n",
    "\n",
    "\n",
    "\n",
    "# make a color map of fixed colors\n",
    "\n",
    "bounds=np.linspace(start=0, stop=1.0, num=21)\n",
    "\n",
    "norm = mpl.colors.BoundaryNorm(bounds, C_p)"
   ]
  },
  {
   "cell_type": "code",
   "execution_count": 34,
   "id": "45784a4e-82fe-4ac0-9a83-fac34a54ac25",
   "metadata": {},
   "outputs": [],
   "source": [
    "import matplotlib as mpl\n",
    "from matplotlib import cm\n",
    "import matplotlib.pyplot as plt\n",
    "import numpy as np\n",
    "norm = mpl.colors.Normalize(vmin=0, vmax=0.15)\n",
    "\n",
    "#cb1 = mpl.colorbar.ColorbarBase(ax, cmap=cmap,\n",
    "#                                norm=norm,\n",
    "#                                orientation='horizontal')"
   ]
  },
  {
   "cell_type": "code",
   "execution_count": 35,
   "id": "1a41867a-8f75-4c72-98b5-3c790522d2f7",
   "metadata": {},
   "outputs": [
    {
     "name": "stdout",
     "output_type": "stream",
     "text": [
      "[[9.76684570e-01 1.89208984e-02 4.18701172e-02 4.88281250e-04]\n",
      " [3.17382812e-03 9.57153320e-01 1.22070312e-04 4.24804688e-02]\n",
      " [1.98974609e-02 1.09863281e-03 9.53857422e-01 1.68457031e-02]\n",
      " [2.44140625e-04 2.28271484e-02 4.15039062e-03 9.40185547e-01]]\n",
      "[[9.46655273e-01 1.75781250e-02 6.10351562e-02 6.10351562e-04]\n",
      " [2.56347656e-03 9.33471680e-01 2.44140625e-04 6.37207031e-02]\n",
      " [5.06591797e-02 1.34277344e-03 9.34692383e-01 1.81884766e-02]\n",
      " [1.22070312e-04 4.76074219e-02 4.02832031e-03 9.17480469e-01]]\n",
      "[[9.78393555e-01 2.19726562e-02 5.52978516e-02 1.34277344e-03]\n",
      " [5.61523438e-03 9.61303711e-01 3.66210938e-04 5.87158203e-02]\n",
      " [1.59912109e-02 6.10351562e-04 9.40063477e-01 2.02636719e-02]\n",
      " [0.00000000e+00 1.61132812e-02 4.27246094e-03 9.19677734e-01]]\n",
      "[[9.57031250e-01 1.97753906e-02 1.53808594e-02 2.44140625e-04]\n",
      " [3.66210938e-03 9.13085938e-01 1.22070312e-04 1.17187500e-02]\n",
      " [3.93066406e-02 1.70898438e-03 9.79736328e-01 1.97753906e-02]\n",
      " [0.00000000e+00 6.54296875e-02 4.76074219e-03 9.68261719e-01]]\n",
      "[[9.90600586e-01 1.96533203e-02 2.23388672e-02 4.88281250e-04]\n",
      " [3.17382812e-03 9.72900391e-01 0.00000000e+00 2.27050781e-02]\n",
      " [6.22558594e-03 0.00000000e+00 9.74731445e-01 2.14843750e-02]\n",
      " [0.00000000e+00 7.44628906e-03 2.92968750e-03 9.55322266e-01]]\n",
      "[[9.60327148e-01 1.37939453e-02 1.81884766e-02 2.44140625e-04]\n",
      " [1.14746094e-02 9.59594727e-01 0.00000000e+00 1.74560547e-02]\n",
      " [2.77099609e-02 2.44140625e-04 9.72412109e-01 1.53808594e-02]\n",
      " [4.88281250e-04 2.63671875e-02 9.39941406e-03 9.66918945e-01]]\n",
      "[[9.07104492e-01 1.35498047e-02 7.94677734e-02 1.22070312e-03]\n",
      " [8.54492188e-03 9.74975586e-01 4.88281250e-04 7.97119141e-02]\n",
      " [8.42285156e-02 1.22070312e-04 9.10766602e-01 1.33056641e-02]\n",
      " [1.22070312e-04 1.13525391e-02 9.27734375e-03 9.05761719e-01]]\n",
      "[[9.16381836e-01 1.26953125e-02 2.30834961e-01 3.05175781e-03]\n",
      " [8.78906250e-03 9.10644531e-01 2.31933594e-03 2.35839844e-01]\n",
      " [7.40966797e-02 9.76562500e-04 7.58911133e-01 8.42285156e-03]\n",
      " [7.32421875e-04 7.56835938e-02 7.93457031e-03 7.52685547e-01]]\n",
      "[[9.44091797e-01 1.11083984e-02 8.53271484e-02 1.34277344e-03]\n",
      " [1.03759766e-02 9.43847656e-01 7.32421875e-04 8.65478516e-02]\n",
      " [4.50439453e-02 7.32421875e-04 9.02587891e-01 1.20849609e-02]\n",
      " [4.88281250e-04 4.43115234e-02 1.13525391e-02 9.00024414e-01]]\n",
      "[[9.71191406e-01 1.23291016e-02 4.82177734e-02 4.88281250e-04]\n",
      " [9.15527344e-03 9.65698242e-01 8.54492188e-04 4.83398438e-02]\n",
      " [1.94091797e-02 4.88281250e-04 9.41650391e-01 1.56250000e-02]\n",
      " [2.44140625e-04 2.14843750e-02 9.27734375e-03 9.35546875e-01]]\n",
      "[[9.33959961e-01 1.03759766e-02 2.07519531e-02 1.22070312e-04]\n",
      " [8.91113281e-03 9.20654297e-01 3.66210938e-04 2.39257812e-02]\n",
      " [5.61523438e-02 1.22070312e-03 9.68505859e-01 1.28173828e-02]\n",
      " [9.76562500e-04 6.77490234e-02 1.03759766e-02 9.63134766e-01]]\n",
      "[[9.84008789e-01 1.14746094e-02 1.06201172e-02 0.00000000e+00]\n",
      " [1.09863281e-02 9.85351562e-01 1.22070312e-04 1.15966797e-02]\n",
      " [5.00488281e-03 0.00000000e+00 9.79614258e-01 1.09863281e-02]\n",
      " [0.00000000e+00 3.17382812e-03 9.64355469e-03 9.77416992e-01]]\n",
      "[[9.72534180e-01 1.51367188e-02 4.51660156e-03 1.22070312e-04]\n",
      " [1.08642578e-02 9.73999023e-01 0.00000000e+00 4.39453125e-03]\n",
      " [1.64794922e-02 3.66210938e-04 9.86206055e-01 1.52587891e-02]\n",
      " [1.22070312e-04 1.04980469e-02 9.27734375e-03 9.80224609e-01]]\n",
      "[[9.54833984e-01 1.19628906e-02 2.35595703e-02 0.00000000e+00]\n",
      " [1.04980469e-02 9.50073242e-01 0.00000000e+00 2.11181641e-02]\n",
      " [3.43017578e-02 7.32421875e-04 9.65332031e-01 1.52587891e-02]\n",
      " [3.66210938e-04 3.72314453e-02 1.11083984e-02 9.63623047e-01]]\n",
      "[[0.69909668 0.00756836 0.0994873  0.00109863]\n",
      " [0.00634766 0.6574707  0.00097656 0.10375977]\n",
      " [0.29187012 0.00488281 0.89147949 0.01062012]\n",
      " [0.00268555 0.33007812 0.00805664 0.88452148]]\n",
      "[[9.48364258e-01 1.25732422e-02 1.31835938e-02 1.22070312e-04]\n",
      " [1.02539062e-02 9.51660156e-01 1.22070312e-04 1.34277344e-02]\n",
      " [4.12597656e-02 4.88281250e-04 9.76684570e-01 1.22070312e-02]\n",
      " [1.22070312e-04 3.52783203e-02 1.00097656e-02 9.74243164e-01]]\n",
      "[[9.75097656e-01 1.24511719e-02 1.89208984e-02 1.22070312e-04]\n",
      " [1.18408203e-02 9.76684570e-01 2.44140625e-04 2.47802734e-02]\n",
      " [1.30615234e-02 4.88281250e-04 9.69970703e-01 1.09863281e-02]\n",
      " [0.00000000e+00 1.03759766e-02 1.08642578e-02 9.64111328e-01]]\n",
      "[[9.85839844e-01 1.29394531e-02 1.57470703e-02 2.44140625e-04]\n",
      " [1.08642578e-02 9.83520508e-01 4.88281250e-04 1.59912109e-02]\n",
      " [3.29589844e-03 0.00000000e+00 9.72412109e-01 1.08642578e-02]\n",
      " [0.00000000e+00 3.54003906e-03 1.13525391e-02 9.72900391e-01]]\n"
     ]
    },
    {
     "ename": "TypeError",
     "evalue": "'AxesSubplot' object is not iterable",
     "output_type": "error",
     "traceback": [
      "\u001b[0;31m---------------------------------------------------------------------------\u001b[0m",
      "\u001b[0;31mTypeError\u001b[0m                                 Traceback (most recent call last)",
      "\u001b[0;32m/tmp/ipykernel_633/1857846368.py\u001b[0m in \u001b[0;36m<module>\u001b[0;34m\u001b[0m\n\u001b[1;32m      8\u001b[0m \u001b[0;34m\u001b[0m\u001b[0m\n\u001b[1;32m      9\u001b[0m \u001b[0;32mfor\u001b[0m \u001b[0maxs\u001b[0m \u001b[0;32min\u001b[0m \u001b[0maxs2d\u001b[0m\u001b[0;34m:\u001b[0m\u001b[0;34m\u001b[0m\u001b[0;34m\u001b[0m\u001b[0m\n\u001b[0;32m---> 10\u001b[0;31m     \u001b[0;32mfor\u001b[0m \u001b[0max\u001b[0m \u001b[0;32min\u001b[0m \u001b[0maxs\u001b[0m\u001b[0;34m:\u001b[0m\u001b[0;34m\u001b[0m\u001b[0;34m\u001b[0m\u001b[0m\n\u001b[0m\u001b[1;32m     11\u001b[0m         \u001b[0mim\u001b[0m \u001b[0;34m=\u001b[0m \u001b[0max\u001b[0m\u001b[0;34m.\u001b[0m\u001b[0mimshow\u001b[0m\u001b[0;34m(\u001b[0m\u001b[0mmeas_fitters\u001b[0m\u001b[0;34m[\u001b[0m\u001b[0mi\u001b[0m\u001b[0;34m]\u001b[0m\u001b[0;34m.\u001b[0m\u001b[0mcal_matrix\u001b[0m\u001b[0;34m,\u001b[0m \u001b[0mnorm\u001b[0m\u001b[0;34m=\u001b[0m\u001b[0mnorm\u001b[0m\u001b[0;34m)\u001b[0m\u001b[0;34m\u001b[0m\u001b[0;34m\u001b[0m\u001b[0m\n\u001b[1;32m     12\u001b[0m \u001b[0mfig\u001b[0m\u001b[0;34m.\u001b[0m\u001b[0msubplots_adjust\u001b[0m\u001b[0;34m(\u001b[0m\u001b[0mright\u001b[0m\u001b[0;34m=\u001b[0m\u001b[0;36m0.8\u001b[0m\u001b[0;34m)\u001b[0m\u001b[0;34m\u001b[0m\u001b[0;34m\u001b[0m\u001b[0m\n",
      "\u001b[0;31mTypeError\u001b[0m: 'AxesSubplot' object is not iterable"
     ]
    },
    {
     "data": {
      "image/png": "[encoded data removed]",
      "text/plain": [
       "<Figure size 1200x800 with 3 Axes>"
      ]
     },
     "metadata": {
      "needs_background": "light"
     },
     "output_type": "display_data"
    }
   ],
   "source": [
    "for i in range(len(meas_fitters)):\n",
    "    print(meas_fitters[i].cal_matrix)\n",
    "    \n",
    "fig, axs2d = plt.subplots(nrows=1, ncols=3, dpi = 200)\n",
    "fig.tight_layout()\n",
    "\n",
    "norm = mpl.colors.Normalize(vmin=0, vmax=0.15)\n",
    "\n",
    "for axs in axs2d:\n",
    "    for ax in axs:\n",
    "        im = ax.imshow(meas_fitters[i].cal_matrix, norm=norm)\n",
    "fig.subplots_adjust(right=0.8)\n",
    "\n",
    "#cmap = colours,\n",
    "\n",
    "\n",
    "cbar = fig.add_axes([0.85, 0.15, 0.05, 0.75])\n",
    "fig.colorbar(im, cax=cbar_ax)"
   ]
  },
  {
   "cell_type": "code",
   "execution_count": 36,
   "id": "213e0f76-5e33-453b-92c5-ac950d7c05ef",
   "metadata": {},
   "outputs": [
    {
     "name": "stdout",
     "output_type": "stream",
     "text": [
      "0\n",
      "1\n",
      "2\n",
      "3\n",
      "4\n",
      "5\n",
      "6\n",
      "7\n",
      "8\n",
      "9\n",
      "10\n",
      "11\n",
      "12\n",
      "13\n",
      "14\n"
     ]
    },
    {
     "name": "stderr",
     "output_type": "stream",
     "text": [
      "/tmp/ipykernel_633/2691989560.py:18: MatplotlibDeprecationWarning: The 'norm' parameter to Colorbar has no effect because it is overridden by the mappable; it is deprecated since 3.3 and will be removed two minor releases later.\n",
      "  fig.colorbar(im, norm=norm)\n"
     ]
    },
    {
     "data": {
      "text/plain": [
       "<matplotlib.colorbar.Colorbar at 0x7f3d7c335f40>"
      ]
     },
     "execution_count": 36,
     "metadata": {},
     "output_type": "execute_result"
    },
    {
     "data": {
      "image/png": "[encoded data removed]",
      "text/plain": [
       "<Figure size 1200x800 with 16 Axes>"
      ]
     },
     "metadata": {
      "needs_background": "light"
     },
     "output_type": "display_data"
    }
   ],
   "source": [
    "i = 0\n",
    "fig, axs2d = plt.subplots(nrows=3, ncols=5, dpi = 200)\n",
    "fig.tight_layout()\n",
    "\n",
    "norm = mpl.colors.Normalize(vmin=0, vmax=0.2)\n",
    "\n",
    "for axs in axs2d:\n",
    "    for ax in axs:\n",
    "        print(i)\n",
    "        im = ax.imshow(meas_fitters[i].cal_matrix, norm=norm)\n",
    "        i=i+1\n",
    "fig.subplots_adjust(right=0.8)\n",
    "\n",
    "#cmap = colours,\n",
    "\n",
    "\n",
    "#cbar = fig.add_axes([0.85, 0.15, 0.05, 0.75])\n",
    "fig.colorbar(im, norm=norm)\n",
    "#cbar = fig.add_axes([0.85, 0.15, 0.05, 0.75])\n",
    "#fig.colorbar(im, cax=cbar_ax)\n",
    "# fig.colorbar(im, ticks=np.arange(C_p),cax=cbar)\n",
    "\n",
    "#cbar.set_ylabel(\"\", rotation=90, va=\"bottom\")\n",
    "\n",
    "\n",
    "\n",
    "\n",
    "        # ax.xlabel(\"input states\")\n",
    "        # ax.ylabel(\"output states\")\n",
    "        # ax.title(\"readout calibration matrix of qubit (6 , \"+str(path[i])+\") on Rigetti Aspen-11\")\n",
    "        # ax.show()"
   ]
  },
  {
   "cell_type": "code",
   "execution_count": 43,
   "id": "6ec13b39-7f89-4eea-b923-e8a5cc2bf50c",
   "metadata": {},
   "outputs": [],
   "source": [
    "fig.savefig('2q-Cal.png')"
   ]
  },
  {
   "cell_type": "code",
   "execution_count": 47,
   "id": "7df0c46a-dd38-4e6b-b49b-e026ef26d450",
   "metadata": {},
   "outputs": [
    {
     "name": "stderr",
     "output_type": "stream",
     "text": [
      "/tmp/ipykernel_224/3995283766.py:2: MatplotlibDeprecationWarning: The 'norm' parameter to Colorbar has no effect because it is overridden by the mappable; it is deprecated since 3.3 and will be removed two minor releases later.\n",
      "  fig.colorbar(im, norm=norm)\n"
     ]
    }
   ],
   "source": [
    "norm = mpl.colors.Normalize(vmin=0, vmax=0.2)\n",
    "fig.colorbar(im, norm=norm)\n",
    "fig.show()"
   ]
  },
  {
   "cell_type": "code",
   "execution_count": 23,
   "id": "953b3eaa-3b29-4f69-bd13-ac17ebe13982",
   "metadata": {},
   "outputs": [
    {
     "name": "stdout",
     "output_type": "stream",
     "text": [
      "qubit 6 7 : [ 0.0029296875 0.00146484375 0.0115966796875 0.004638671875 ]\n",
      "qubit 6 0 : [ 0.0103759765625 0.001220703125 0.0023193359375 0.000244140625 ]\n",
      "qubit 6 1 : [ 0.008056640625 0.00048828125 0.00732421875 0.0006103515625 ]\n",
      "qubit 6 16 : [ 0.010498046875 0.0010986328125 0.0013427734375 0.0 ]\n",
      "qubit 6 17 : [ 0.013916015625 0.00048828125 0.01416015625 0.001953125 ]\n",
      "qubit 6 10 : [ 0.003173828125 0.0003662109375 0.00341796875 0.000732421875 ]\n",
      "qubit 6 11 : [ 0.008056640625 0.0009765625 0.00390625 0.0003662109375 ]\n",
      "qubit 6 26 : [ 0.001220703125 0.0003662109375 0.0045166015625 0.0003662109375 ]\n",
      "qubit 6 27 : [ 0.0062255859375 0.000732421875 0.005126953125 0.0006103515625 ]\n",
      "qubit 6 20 : [ 0.00244140625 0.000244140625 0.0052490234375 0.000244140625 ]\n",
      "qubit 6 21 : [ 0.0035400390625 0.000732421875 0.011962890625 0.0018310546875 ]\n",
      "qubit 6 36 : [ 0.0013427734375 0.0006103515625 0.001220703125 0.0 ]\n",
      "qubit 6 37 : [ 0.00439453125 0.0001220703125 0.0380859375 0.005615234375 ]\n",
      "qubit 6 30 : [ 0.00439453125 0.000244140625 0.002197265625 0.0001220703125 ]\n",
      "qubit 6 31 : [ 0.008544921875 0.0010986328125 0.00830078125 0.0013427734375 ]\n"
     ]
    }
   ],
   "source": [
    "for qubit, cal_matrix in zip(path, cal_matrices):\n",
    "    print(\"qubit\", 6, qubit, \": [\", cal_matrix[0,3], cal_matrix[1,2], cal_matrix[2,1], cal_matrix[3,0], \"]\")"
   ]
  },
  {
   "cell_type": "markdown",
   "id": "fa9cbf42-0f95-453e-b626-bce7c46e98be",
   "metadata": {
    "tags": []
   },
   "source": [
    "# Check the correctness"
   ]
  },
  {
   "cell_type": "code",
   "execution_count": 24,
   "id": "301952e4-fda6-48ba-a44d-97041f44f26b",
   "metadata": {},
   "outputs": [
    {
     "name": "stderr",
     "output_type": "stream",
     "text": [
      "/opt/conda/lib/python3.9/site-packages/qiskit_rigetti/_qcs_job.py:117: UserWarning: barriers are currently omitted during execution on a RigettiQCSBackend\n",
      "  warnings.warn(\"barriers are currently omitted during execution on a RigettiQCSBackend\")\n",
      "/opt/conda/lib/python3.9/site-packages/rpcq/_client.py:202: UserWarning: SIMPLE-WARNING: Unhandled pragma in qubit relabeling: #<PRAGMA OPENQASM 2.0>\n",
      "  warn(f\"{warning.kind}: {warning.body}\")\n"
     ]
    }
   ],
   "source": [
    "job = execute(meas_calibs, backend, shots=1 << 13, initial_layout=[6,100], optimization_level=3)"
   ]
  },
  {
   "cell_type": "markdown",
   "id": "d61f5e28-ba2e-4232-b51c-c686860bbde5",
   "metadata": {},
   "source": [
    "# Tensor Product Noise Model (not used)"
   ]
  },
  {
   "cell_type": "code",
   "execution_count": null,
   "id": "5b562895-2fd8-4f95-a38c-e0b8db018c97",
   "metadata": {},
   "outputs": [],
   "source": [
    "result = records[\"result\"]\n",
    "meas_fitter = records[\"meas_fitter\"]\n",
    "cal_matrix = meas_fitter.cal_matrix"
   ]
  },
  {
   "cell_type": "code",
   "execution_count": 3,
   "id": "583d11bb-2960-436c-b5bb-89067f67cb48",
   "metadata": {},
   "outputs": [],
   "source": [
    "from qiskit.ignis.mitigation.measurement import TensoredMeasFitter"
   ]
  },
  {
   "cell_type": "code",
   "execution_count": 5,
   "id": "fd01d598-777e-4faf-8695-9ac471965211",
   "metadata": {},
   "outputs": [],
   "source": [
    "from qiskit.result import Result\n",
    "\n",
    "def separate_results(one_job_results):\n",
    "    return [Result(backend_name=one_job_results.backend_name,\n",
    "                   backend_version=one_job_results.backend_version,\n",
    "                   qobj_id=one_job_results.qobj_id,\n",
    "                   job_id=one_job_results.job_id,\n",
    "                   success=True,\n",
    "                   results=[results]) for results in one_job_results.results]\n",
    "\n",
    "\n",
    "def merge_results(results_list):\n",
    "    results = []\n",
    "    for res in results_list:\n",
    "        results += res.results\n",
    "    return Result(backend_name=results_list[0].backend_name,\n",
    "                  backend_version=results_list[0].backend_version,\n",
    "                  qobj_id=results_list[0].qobj_id,\n",
    "                  job_id=results_list[0].job_id,\n",
    "                  success=True,\n",
    "                  results=results)"
   ]
  },
  {
   "cell_type": "code",
   "execution_count": 6,
   "id": "d446e450-fe39-4837-8a59-beee44dce94e",
   "metadata": {},
   "outputs": [],
   "source": [
    "results_list = separate_results(result)"
   ]
  },
  {
   "cell_type": "code",
   "execution_count": 7,
   "id": "e1799a7c-4512-4854-b988-8ed6e6733e66",
   "metadata": {},
   "outputs": [
    {
     "data": {
      "text/plain": [
       "256"
      ]
     },
     "execution_count": 7,
     "metadata": {},
     "output_type": "execute_result"
    }
   ],
   "source": [
    "len(results_list)"
   ]
  },
  {
   "cell_type": "code",
   "execution_count": 8,
   "id": "7a341191-3498-4248-9168-a73962354793",
   "metadata": {},
   "outputs": [],
   "source": [
    "tensored_result = merge_results([results_list[0], results_list[-1]])"
   ]
  },
  {
   "cell_type": "code",
   "execution_count": 21,
   "id": "a71a0f40-108a-424b-99de-561d6f58789c",
   "metadata": {},
   "outputs": [],
   "source": [
    "tensored_fitter = TensoredMeasFitter(tensored_result, mit_pattern=[[i] for i in range(num_qubits)])"
   ]
  },
  {
   "cell_type": "code",
   "execution_count": 22,
   "id": "a1012d59-ba65-409a-b5c1-9a035d5eb277",
   "metadata": {},
   "outputs": [
    {
     "data": {
      "text/plain": [
       "[array([[0.98364258, 0.10070801],\n",
       "        [0.01635742, 0.89929199]]),\n",
       " array([[0.94384766, 0.07263184],\n",
       "        [0.05615234, 0.92736816]]),\n",
       " array([[0.94445801, 0.12524414],\n",
       "        [0.05554199, 0.87475586]]),\n",
       " array([[0.81604004, 0.13793945],\n",
       "        [0.18395996, 0.86206055]]),\n",
       " array([[0.93054199, 0.09289551],\n",
       "        [0.06945801, 0.90710449]]),\n",
       " array([[0.90795898, 0.0390625 ],\n",
       "        [0.09204102, 0.9609375 ]]),\n",
       " array([[0.98486328, 0.05224609],\n",
       "        [0.01513672, 0.94775391]]),\n",
       " array([[0.9329834 , 0.03234863],\n",
       "        [0.0670166 , 0.96765137]])]"
      ]
     },
     "execution_count": 22,
     "metadata": {},
     "output_type": "execute_result"
    }
   ],
   "source": [
    "tensored_fitter.cal_matrices"
   ]
  },
  {
   "cell_type": "markdown",
   "id": "51dac14b-ddae-4c31-ab02-c07d6b0d7c9b",
   "metadata": {},
   "source": [
    "- "
   ]
  },
  {
   "cell_type": "markdown",
   "id": "5cf19dc5-6acb-4ad3-987f-0e4e0aa8fc67",
   "metadata": {},
   "source": [
    "# TODO\n",
    "\n",
    "- check the difference of the full calibration matrix and tensor product of the single qubit calibration matrix\n",
    "- check the difference of the magnitude of the correlations between different order of correlation: 2-qubit / 3-qubit"
   ]
  },
  {
   "cell_type": "markdown",
   "id": "c35b5114-5ba5-4c8b-9fd4-02670ebab363",
   "metadata": {},
   "source": [
    "$\\rho_{ABC}$→$\\rho_A, \\rho_B, \\rho_C$\n",
    "\n",
    "$\\rho_A, \\rho_B, \\rho_C$→$\\rho_{ABC}$"
   ]
  },
  {
   "cell_type": "markdown",
   "id": "d96cf4a2-3fa3-4841-afa2-c7738c66f572",
   "metadata": {},
   "source": [
    "$\\rho_{AB}$, $\\rho_{BC}$, $\\rho_{CA}$, $\\rho_A, \\rho_B, \\rho_C$"
   ]
  },
  {
   "cell_type": "markdown",
   "id": "5c7ccd5e-22af-4bda-ab0d-bec265f74b49",
   "metadata": {},
   "source": []
  },
  {
   "cell_type": "code",
   "execution_count": null,
   "id": "555da824-2025-4f8b-862e-8f23063b5198",
   "metadata": {},
   "outputs": [],
   "source": []
  }
 ],
 "metadata": {
  "kernelspec": {
   "display_name": "Python [conda env:root] *",
   "language": "python",
   "name": "conda-root-py"
  },
  "language_info": {
   "codemirror_mode": {
    "name": "ipython",
    "version": 3
   },
   "file_extension": ".py",
   "mimetype": "text/x-python",
   "name": "python",
   "nbconvert_exporter": "python",
   "pygments_lexer": "ipython3",
   "version": "3.9.7"
  }
 },
 "nbformat": 4,
 "nbformat_minor": 5
}
